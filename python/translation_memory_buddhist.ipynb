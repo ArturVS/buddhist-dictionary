{
 "cells": [
  {
   "cell_type": "markdown",
   "metadata": {},
   "source": [
    "# Translation Memory Notebook"
   ]
  },
  {
   "cell_type": "code",
   "execution_count": 1,
   "metadata": {
    "collapsed": true
   },
   "outputs": [],
   "source": [
    "import numpy as np\n",
    "import pandas as pd\n",
    "\n",
    "from char_util import ToSimplified\n",
    "\n",
    "# Load NTI Reader dictionary\n",
    "colnames = ['id', 'simplified', 'traditional', 'pinyin', \n",
    "            'english', 'grammar', 'concept_cn', 'concept_en', \n",
    "            'domain_cn', 'domain_en', 'subdomain_cn', 'subdomain_en',\n",
    "            'image', 'mp3', 'notes', 'headword']\n",
    "types = {'id': np.uint32, 'simplified': np.object, 'traditional': np.object, \n",
    "        'pinyin': np.object, 'english': np.object, 'grammar': np.object,\n",
    "        'concept_cn': np.object, 'concept_en': np.object,\n",
    "        'domain_cn': np.object, 'domain_en': np.object, 'subdomain_cn': np.object,\n",
    "         'subdomain_en': np.object, 'image': np.object, 'mp3': np.object,\n",
    "         'notes': np.object, 'headword': np.uint32}\n",
    "nti_df = pd.read_table('../data/dictionary/words.txt', names=colnames, dtype=types)"
   ]
  },
  {
   "cell_type": "code",
   "execution_count": 13,
   "metadata": {
    "collapsed": false
   },
   "outputs": [
    {
     "name": "stdout",
     "output_type": "stream",
     "text": [
      "2000048\t深义\t深義\tshēnyì\tprofound meaning\tphrase\t\\N\t\\N\t佛教\tBuddhism\t\\N\t\\N\t\\N\t\\N\tTM: 深 + 義  (Fazang and Vorenkamp, 2004, p. 29)\t2000048\n"
     ]
    }
   ],
   "source": [
    "# Create a word entry\n",
    "trad = u\"深義\"\n",
    "luid = 2000048\n",
    "simplified, traditional, pinyin = ToSimplified(trad)\n",
    "english = u\"profound meaning\"\n",
    "grammar = u\"phrase\"\n",
    "empty = u\"\\\\N\\t\\\\N\"\n",
    "concept = empty\n",
    "# Domain\n",
    "buddhism = u\"佛教\\tBuddhism\"\n",
    "classical = u\"古文\\tClassical Chinese\"\n",
    "domain = buddhism\n",
    "chinese_buddhism = u\"中国佛教\\tChinese Buddhism\"\n",
    "chan = u\"禅宗\\tChan\"\n",
    "esoteric = u\"密教\\tEsoteric Buddhism\"\n",
    "subdomain = empty\n",
    "notes = u\"TM: %s + %s  (Fazang and Vorenkamp, 2004, p. 29)\" % (traditional[0], traditional[1])\n",
    "print u\"%d\\t%s\\t%s\\t%s\\t%s\\t%s\\t%s\\t%s\\t%s\\t\\\\N\\t\\\\N\\t%s\\t%d\" % (\n",
    "      luid, simplified, traditional, pinyin, english, grammar, \n",
    "      concept, domain, subdomain, notes, luid)"
   ]
  },
  {
   "cell_type": "code",
   "execution_count": null,
   "metadata": {
    "collapsed": true
   },
   "outputs": [],
   "source": []
  }
 ],
 "metadata": {
  "kernelspec": {
   "display_name": "Python 2",
   "language": "python",
   "name": "python2"
  },
  "language_info": {
   "codemirror_mode": {
    "name": "ipython",
    "version": 2
   },
   "file_extension": ".py",
   "mimetype": "text/x-python",
   "name": "python",
   "nbconvert_exporter": "python",
   "pygments_lexer": "ipython2",
   "version": "2.7.10"
  }
 },
 "nbformat": 4,
 "nbformat_minor": 0
}
