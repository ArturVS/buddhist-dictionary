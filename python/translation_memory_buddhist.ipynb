{
 "cells": [
  {
   "cell_type": "markdown",
   "metadata": {},
   "source": [
    "# Translation Memory Notebook"
   ]
  },
  {
   "cell_type": "code",
   "execution_count": 33,
   "metadata": {},
   "outputs": [],
   "source": [
    "import numpy as np\n",
    "import pandas as pd\n",
    "\n",
    "from char_util import ToSimplified\n",
    "\n",
    "# Load NTI Reader dictionary\n",
    "colnames = ['id', 'simplified', 'traditional', 'pinyin', \n",
    "            'english', 'grammar', 'concept_cn', 'concept_en', \n",
    "            'domain_cn', 'domain_en', 'subdomain_cn', 'subdomain_en',\n",
    "            'image', 'mp3', 'notes', 'headword']\n",
    "types = {'id': np.uint32, 'simplified': np.object, 'traditional': np.object, \n",
    "        'pinyin': np.object, 'english': np.object, 'grammar': np.object,\n",
    "        'concept_cn': np.object, 'concept_en': np.object,\n",
    "        'domain_cn': np.object, 'domain_en': np.object, 'subdomain_cn': np.object,\n",
    "         'subdomain_en': np.object, 'image': np.object, 'mp3': np.object,\n",
    "         'notes': np.object, 'headword': np.uint32}\n",
    "nti_df = pd.read_table('../data/dictionary/words.txt', names=colnames, dtype=types, comment='#')"
   ]
  },
  {
   "cell_type": "code",
   "execution_count": 34,
   "metadata": {},
   "outputs": [
    {
     "name": "stdout",
     "output_type": "stream",
     "text": [
      "2000319\t至圣命脉\t至聖命脈\tzhìshèngmìngmài\tthe lifeline of the perfect sages\tphrase\t\\N\t\\N\t佛教\tBuddhism\t禅宗\tChan\t\\N\t\\N\tTM: 至 + 聖; from 碧巖錄 <i>The Blue Cliff Record</i>, translation by Cleary 1998, p. 5)\t2000319\n"
     ]
    }
   ],
   "source": [
    "# Create a word entry\n",
    "trad = u\"馬大師不安\"\n",
    "luid = 2000319\n",
    "simplified, traditional, pinyin = ToSimplified(trad)\n",
    "english = u\"the lifeline of the perfect sages\"\n",
    "grammar = u\"phrase\"\n",
    "empty = u\"\\\\N\\t\\\\N\"\n",
    "concept = empty\n",
    "\n",
    "# Domain\n",
    "buddhism = u\"佛教\\tBuddhism\"\n",
    "literary = u\"文言文\\tLiterary Chinese\"\n",
    "modern = u\"现代汉语\\tModern Chinese\"\n",
    "domain = buddhism\n",
    "\n",
    "# Subdomain\n",
    "chinese_buddhism = u\"中国佛教\\tChinese Buddhism\"\n",
    "chan = u\"禅宗\\tChan\"\n",
    "esoteric = u\"密教\\tEsoteric Buddhism\"\n",
    "fgs = u\"佛光山\\tFo Guang Shan\"\n",
    "mahayana = u\"大乘佛教\\tMahāyāna Buddhism\"\n",
    "subdomain = chan\n",
    "tm1 = traditional[0]\n",
    "if tm1 == \"\\\\\":\n",
    "  tm1 = simplified[0]\n",
    "tm2 = traditional[1]\n",
    "if tm2 == \"N\":\n",
    "  tm2 = simplified[1]\n",
    "notes = u\"TM: %s + %s; from 碧巖錄 <i>The Blue Cliff Record</i>, translation by Cleary 1998, p. 5 (T 2003)\" % (tm1, tm2)\n",
    "print u\"%d\\t%s\\t%s\\t%s\\t%s\\t%s\\t%s\\t%s\\t%s\\t\\\\N\\t\\\\N\\t%s\\t%d\" % (\n",
    "      luid, simplified, traditional, pinyin, english, grammar, \n",
    "      concept, domain, subdomain, notes, luid)"
   ]
  },
  {
   "cell_type": "code",
   "execution_count": null,
   "metadata": {},
   "outputs": [],
   "source": []
  }
 ],
 "metadata": {
  "kernelspec": {
   "display_name": "Python 2",
   "language": "python",
   "name": "python2"
  },
  "language_info": {
   "codemirror_mode": {
    "name": "ipython",
    "version": 2
   },
   "file_extension": ".py",
   "mimetype": "text/x-python",
   "name": "python",
   "nbconvert_exporter": "python",
   "pygments_lexer": "ipython2",
   "version": "2.7.15"
  }
 },
 "nbformat": 4,
 "nbformat_minor": 1
}
