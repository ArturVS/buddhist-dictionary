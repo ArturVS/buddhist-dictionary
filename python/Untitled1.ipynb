{
 "cells": [
  {
   "cell_type": "code",
   "execution_count": 2,
   "metadata": {},
   "outputs": [],
   "source": [
    "import numpy as np\n",
    "import pandas as pd\n",
    "import matplotlib.pyplot as plt"
   ]
  },
  {
   "cell_type": "code",
   "execution_count": 41,
   "metadata": {},
   "outputs": [],
   "source": [
    "sim_words = pd.Series([5.170970, 2.208616, 0.088864, 0.086020])\n",
    "sim_bigram = pd.Series([5.119032, 2.267000, 0.0, 0.0])\n",
    "relevant = pd.Series([True, True, False, False])\n",
    "similar_df = pd.DataFrame({\"sim_words\": sim_words, \"sim_bigram\": sim_bigram, \"relevant\": relevant})\n",
    "relevant_df = similar_df[similar_df[\"relevant\"] == True]\n",
    "not_relevant_df = similar_df[similar_df[\"relevant\"] == False]\n"
   ]
  },
  {
   "cell_type": "code",
   "execution_count": 42,
   "metadata": {},
   "outputs": [
    {
     "data": {
      "text/plain": [
       "<matplotlib.axes._subplots.AxesSubplot at 0x118111990>"
      ]
     },
     "execution_count": 42,
     "metadata": {},
     "output_type": "execute_result"
    },
    {
     "data": {
      "image/png": "[encoded data removed]",
      "text/plain": [
       "<Figure size 432x288 with 1 Axes>"
      ]
     },
     "metadata": {},
     "output_type": "display_data"
    }
   ],
   "source": [
    "ax = relevant_df.plot.scatter(x = 'sim_words', y = 'sim_bigram', color='Blue', label='Relevant')\n",
    "not_relevant_df.plot.scatter(x = 'sim_words', y = 'sim_bigram', color='Red', label='Not Relevant', ax=ax)\n"
   ]
  },
  {
   "cell_type": "code",
   "execution_count": null,
   "metadata": {},
   "outputs": [],
   "source": [
    ";"
   ]
  }
 ],
 "metadata": {
  "kernelspec": {
   "display_name": "Python 2",
   "language": "python",
   "name": "python2"
  },
  "language_info": {
   "codemirror_mode": {
    "name": "ipython",
    "version": 2
   },
   "file_extension": ".py",
   "mimetype": "text/x-python",
   "name": "python",
   "nbconvert_exporter": "python",
   "pygments_lexer": "ipython2",
   "version": "2.7.15"
  }
 },
 "nbformat": 4,
 "nbformat_minor": 2
}
