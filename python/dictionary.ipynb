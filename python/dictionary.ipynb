{
 "cells": [
  {
   "cell_type": "markdown",
   "metadata": {},
   "source": [
    "# Notebook for exploring and curating the Chinese-English Dictionary"
   ]
  },
  {
   "cell_type": "code",
   "execution_count": 50,
   "metadata": {
    "collapsed": false
   },
   "outputs": [
    {
     "name": "stdout",
     "output_type": "stream",
     "text": [
      "45697\n",
      "37196\n"
     ]
    },
    {
     "data": {
      "text/html": [
       "<div>\n",
       "<table border=\"1\" class=\"dataframe\">\n",
       "  <thead>\n",
       "    <tr style=\"text-align: right;\">\n",
       "      <th></th>\n",
       "      <th>id</th>\n",
       "      <th>simplified</th>\n",
       "      <th>traditional</th>\n",
       "      <th>pinyin</th>\n",
       "      <th>english</th>\n",
       "      <th>grammar</th>\n",
       "      <th>concept_cn</th>\n",
       "      <th>concept_en</th>\n",
       "      <th>domain_cn</th>\n",
       "      <th>domain_en</th>\n",
       "      <th>subdomain_cn</th>\n",
       "      <th>subdomain_en</th>\n",
       "      <th>image</th>\n",
       "      <th>mp3</th>\n",
       "      <th>notes</th>\n",
       "      <th>headword</th>\n",
       "    </tr>\n",
       "  </thead>\n",
       "  <tbody>\n",
       "    <tr>\n",
       "      <th>827</th>\n",
       "      <td>828</td>\n",
       "      <td>越</td>\n",
       "      <td>\\N</td>\n",
       "      <td>yuè</td>\n",
       "      <td>more</td>\n",
       "      <td>adverb</td>\n",
       "      <td>\\N</td>\n",
       "      <td>\\N</td>\n",
       "      <td>数量</td>\n",
       "      <td>Quantity</td>\n",
       "      <td>\\N</td>\n",
       "      <td>\\N</td>\n",
       "      <td>\\N</td>\n",
       "      <td>yue4.mp3</td>\n",
       "      <td>Used in 越A越B constructions to mean as A increa...</td>\n",
       "      <td>828</td>\n",
       "    </tr>\n",
       "    <tr>\n",
       "      <th>829</th>\n",
       "      <td>830</td>\n",
       "      <td>越</td>\n",
       "      <td>\\N</td>\n",
       "      <td>yuè</td>\n",
       "      <td>Vietnam</td>\n",
       "      <td>proper noun</td>\n",
       "      <td>国家</td>\n",
       "      <td>Country</td>\n",
       "      <td>地理</td>\n",
       "      <td>Geography</td>\n",
       "      <td>亚洲</td>\n",
       "      <td>Asia</td>\n",
       "      <td>\\N</td>\n",
       "      <td>yue4.mp3</td>\n",
       "      <td>Short form for 越南.</td>\n",
       "      <td>828</td>\n",
       "    </tr>\n",
       "    <tr>\n",
       "      <th>13694</th>\n",
       "      <td>13695</td>\n",
       "      <td>越</td>\n",
       "      <td>\\N</td>\n",
       "      <td>yuè</td>\n",
       "      <td>to get over</td>\n",
       "      <td>verb</td>\n",
       "      <td>\\N</td>\n",
       "      <td>\\N</td>\n",
       "      <td>行为</td>\n",
       "      <td>Actions</td>\n",
       "      <td>\\N</td>\n",
       "      <td>\\N</td>\n",
       "      <td>\\N</td>\n",
       "      <td>yue4.mp3</td>\n",
       "      <td>\\N</td>\n",
       "      <td>828</td>\n",
       "    </tr>\n",
       "    <tr>\n",
       "      <th>38268</th>\n",
       "      <td>38269</td>\n",
       "      <td>越</td>\n",
       "      <td>\\N</td>\n",
       "      <td>yuè</td>\n",
       "      <td>yue</td>\n",
       "      <td>foreign</td>\n",
       "      <td>\\N</td>\n",
       "      <td>\\N</td>\n",
       "      <td>外语</td>\n",
       "      <td>Foreign Language</td>\n",
       "      <td>\\N</td>\n",
       "      <td>\\N</td>\n",
       "      <td>\\N</td>\n",
       "      <td>yue4.mp3</td>\n",
       "      <td>Used to transliterate foreign names</td>\n",
       "      <td>828</td>\n",
       "    </tr>\n",
       "  </tbody>\n",
       "</table>\n",
       "</div>"
      ],
      "text/plain": [
       "          id simplified traditional pinyin      english      grammar  \\\n",
       "827      828          越          \\N    yuè         more       adverb   \n",
       "829      830          越          \\N    yuè      Vietnam  proper noun   \n",
       "13694  13695          越          \\N    yuè  to get over         verb   \n",
       "38268  38269          越          \\N    yuè          yue      foreign   \n",
       "\n",
       "      concept_cn concept_en domain_cn         domain_en subdomain_cn  \\\n",
       "827           \\N         \\N        数量          Quantity           \\N   \n",
       "829           国家    Country        地理         Geography           亚洲   \n",
       "13694         \\N         \\N        行为           Actions           \\N   \n",
       "38268         \\N         \\N        外语  Foreign Language           \\N   \n",
       "\n",
       "      subdomain_en image       mp3  \\\n",
       "827             \\N    \\N  yue4.mp3   \n",
       "829           Asia    \\N  yue4.mp3   \n",
       "13694           \\N    \\N  yue4.mp3   \n",
       "38268           \\N    \\N  yue4.mp3   \n",
       "\n",
       "                                                   notes  headword  \n",
       "827    Used in 越A越B constructions to mean as A increa...       828  \n",
       "829                                   Short form for 越南.       828  \n",
       "13694                                                 \\N       828  \n",
       "38268                Used to transliterate foreign names       828  "
      ]
     },
     "execution_count": 50,
     "metadata": {},
     "output_type": "execute_result"
    }
   ],
   "source": [
    "import pandas as pd\n",
    "import numpy as np\n",
    "# Load words table\n",
    "colnames = ['id', 'simplified', 'traditional', 'pinyin', \n",
    "            'english', 'grammar', 'concept_cn', 'concept_en', \n",
    "            'domain_cn', 'domain_en', 'subdomain_cn', 'subdomain_en',\n",
    "            'image', 'mp3', 'notes', 'headword']\n",
    "types = {'id': np.uint32, 'simplified': unicode, 'traditional': unicode, \n",
    "        'pinyin': np.object, 'english': np.object, 'grammar': np.object,\n",
    "        'concept_cn': np.object, 'concept_en': np.object,\n",
    "        'domain_cn': np.object, 'domain_en': np.object, 'subdomain_cn': np.object,\n",
    "         'subdomain_en': np.object, 'image': np.object, 'mp3': np.object,\n",
    "         'notes': np.object, 'headword': np.uint32}\n",
    "df = pd.read_table('../data/dictionary/words.txt', names=colnames, dtype=types)\n",
    "print df['id'].count() # Number of lexical units\n",
    "\n",
    "# Unique headwords\n",
    "print len(df['headword'].unique())\n",
    "\n",
    "# Example row\n",
    "df[df.simplified == '越']"
   ]
  },
  {
   "cell_type": "code",
   "execution_count": 48,
   "metadata": {
    "collapsed": false
   },
   "outputs": [
    {
     "name": "stdout",
     "output_type": "stream",
     "text": [
      "3307\n",
      "3236\n"
     ]
    },
    {
     "data": {
      "text/html": [
       "<div>\n",
       "<table border=\"1\" class=\"dataframe\">\n",
       "  <thead>\n",
       "    <tr style=\"text-align: right;\">\n",
       "      <th></th>\n",
       "      <th>id</th>\n",
       "      <th>simplified</th>\n",
       "      <th>traditional</th>\n",
       "      <th>pinyin</th>\n",
       "      <th>english</th>\n",
       "      <th>grammar</th>\n",
       "      <th>concept_cn</th>\n",
       "      <th>concept_en</th>\n",
       "      <th>domain_cn</th>\n",
       "      <th>domain_en</th>\n",
       "      <th>subdomain_cn</th>\n",
       "      <th>subdomain_en</th>\n",
       "      <th>image</th>\n",
       "      <th>mp3</th>\n",
       "      <th>notes</th>\n",
       "      <th>headword</th>\n",
       "    </tr>\n",
       "  </thead>\n",
       "  <tbody>\n",
       "    <tr>\n",
       "      <th>2200</th>\n",
       "      <td>1002201</td>\n",
       "      <td>度一切苦厄</td>\n",
       "      <td>\\N</td>\n",
       "      <td>dù yī qiē kŭ è</td>\n",
       "      <td>Overcome All Sufferings</td>\n",
       "      <td>phrase</td>\n",
       "      <td>\\N</td>\n",
       "      <td>\\N</td>\n",
       "      <td>佛教</td>\n",
       "      <td>Buddhism</td>\n",
       "      <td>佛光山</td>\n",
       "      <td>Fo Guang Shan</td>\n",
       "      <td>\\N</td>\n",
       "      <td>\\N</td>\n",
       "      <td>Venerable Master Hsing Yun's One-Stroke Callig...</td>\n",
       "      <td>1002201</td>\n",
       "    </tr>\n",
       "  </tbody>\n",
       "</table>\n",
       "</div>"
      ],
      "text/plain": [
       "           id simplified traditional          pinyin                  english  \\\n",
       "2200  1002201      度一切苦厄          \\N  dù yī qiē kŭ è  Overcome All Sufferings   \n",
       "\n",
       "     grammar concept_cn concept_en domain_cn domain_en subdomain_cn  \\\n",
       "2200  phrase         \\N         \\N        佛教  Buddhism          佛光山   \n",
       "\n",
       "       subdomain_en image mp3  \\\n",
       "2200  Fo Guang Shan    \\N  \\N   \n",
       "\n",
       "                                                  notes  headword  \n",
       "2200  Venerable Master Hsing Yun's One-Stroke Callig...   1002201  "
      ]
     },
     "execution_count": 48,
     "metadata": {},
     "output_type": "execute_result"
    }
   ],
   "source": [
    "fgs = pd.read_table('../data/dictionary/fgs_mwe.txt', names=colnames, dtype=types)\n",
    "print fgs['id'].count() # Number of lexical units\n",
    "\n",
    "print len(fgs['headword'].unique()) # Unique headwords\n",
    "\n",
    "# Example row\n",
    "fgs[fgs.simplified == '度一切苦厄']"
   ]
  },
  {
   "cell_type": "code",
   "execution_count": 64,
   "metadata": {
    "collapsed": false
   },
   "outputs": [
    {
     "name": "stdout",
     "output_type": "stream",
     "text": [
      "佛说须赖经\n",
      "佛說須賴經\n",
      "Fó shuō xū lài jīng \n"
     ]
    }
   ],
   "source": [
    "# Add a title from the Taisho to the dictionary and corpus\n",
    "tradArr = [\"佛說\", \"須\", \"賴\", \"經\"]\n",
    "traditional = \"\"\n",
    "simplified = \"\"\n",
    "pinyin = \"\"\n",
    "for t in tradArr:\n",
    "  sDF = df[df.traditional == t]['simplified']\n",
    "  tDF = df[df.traditional == t]['traditional']\n",
    "  pDF = df[df.traditional == t]['pinyin']\n",
    "  if sDF.count() > 0:\n",
    "    simplified += sDF.iloc[0].decode('utf-8')\n",
    "    traditional +=tDF.iloc[0].decode('utf-8')\n",
    "    pinyin += pDF.iloc[0].decode('utf-8') + \" \"\n",
    "  else:\n",
    "    sDF = df[df.simplified == t]['simplified']\n",
    "    tDF = df[df.simplified == t]['traditional']\n",
    "    pDF = df[df.simplified == t]['pinyin']\n",
    "    if sDF.count() > 0:\n",
    "      simplified += sDF.iloc[0].decode('utf-8')\n",
    "      traditional += sDF.iloc[0].decode('utf-8')\n",
    "      pinyin += pDF.iloc[0].decode('utf-8') + \" \"\n",
    "    else:\n",
    "      print \"%s not found\" % t\n",
    "pinyin.strip()\n",
    "print simplified \n",
    "print traditional\n",
    "print pinyin"
   ]
  },
  {
   "cell_type": "code",
   "execution_count": 65,
   "metadata": {
    "collapsed": false
   },
   "outputs": [
    {
     "name": "stdout",
     "output_type": "stream",
     "text": [
      "45702\t佛说须赖经\t佛說須賴經\tFó shuō xū lài jīng \tFo Shuo Xulai Jing\tproper noun\t经\tSutra\t佛教\tBuddhism\t大乘佛教\tMahāyāna Buddhism\t\\N\t\\N\tA text in the Chinese Buddhist canon (T 328; Lancaster 2004, K 0)\t45702\n",
      "\n",
      "Fo Shuo Xulai Jing 《佛說須賴經》\n",
      "\n",
      "taisho/t0328.csv\ttaisho/t0328.html\tFo Shuo Xulai Jing 《佛說須賴經》\tTranslated by Bai Yan\ttaisho/t0328_00.txt\tTaishō\tSūtra\t220-265\tratnakūṭa\n",
      "\n",
      "Bai Yan, 《佛說須賴經》 'Fo Shuo Xulai Jing,' in <i>Taishō shinshū Daizōkyō</i> 《大正新脩大藏經》, in Takakusu Junjiro, ed., (Tokyo: Taishō Shinshū Daizōkyō Kankōkai, 1988), Vol. 12, No. 328, Accessed 2016-08-31, <a href='http://tripitaka.cbeta.org/T12n0328'>http://tripitaka.cbeta.org/T12n0328</a>.\n"
     ]
    }
   ],
   "source": [
    "# Add a Taisho title\n",
    "# As a word entry in the dictionary\n",
    "\n",
    "luid = 45702\n",
    "tid = 328\n",
    "kid = 0\n",
    "english = u\"Fo Shuo Xulai Jing\"\n",
    "grammar = \"proper noun\"\n",
    "concept = u\"经\\tSutra\"\n",
    "domain = u\"佛教\\tBuddhism\"\n",
    "subdomain = u\"大乘佛教\\tMahāyāna Buddhism\"\n",
    "notes = u\"A text in the Chinese Buddhist canon (T %d; Lancaster 2004, K %d)\" % (\n",
    "    tid, kid)\n",
    "print u\"%d\\t%s\\t%s\\t%s\\t%s\\t%s\\t%s\\t%s\\t%s\\t\\\\N\\t\\\\N\\t%s\\t%d\" % (\n",
    "    luid, simplified, traditional, pinyin, english, grammar, concept, domain, subdomain, notes, luid)\n",
    "print\n",
    "\n",
    "# Full title of the Taisho entry\n",
    "title = u\"%s 《%s》\" % (english, traditional)\n",
    "print title\n",
    "print\n",
    "\n",
    "# Collection entry\n",
    "translator = u\"Bai Yan\"\n",
    "daterange = u\"220-265\"\n",
    "genre = u\"ratnakūṭa\"\n",
    "entry = u\"taisho/t0%d.csv\\ttaisho/t0%d.html\\t%s\\tTranslated by %s\\ttaisho/t0%d_00.txt\\tTaishō\\tSūtra\\t%s\\t%s\" % (\n",
    "    tid, tid, title, translator, tid, daterange, genre)\n",
    "print entry\n",
    "print\n",
    "\n",
    "# Primary source reference\n",
    "url = u\"http://tripitaka.cbeta.org/T12n0328\"\n",
    "reference = u\"%s, 《%s》 '%s,' in <i>Taishō shinshū Daizōkyō</i> 《大正新脩大藏經》, in Takakusu Junjiro, ed., (Tokyo: Taishō Shinshū Daizōkyō Kankōkai, 1988), Vol. 12, No. %d, Accessed 2016-08-31, <a href='%s'>%s</a>.\" % (\n",
    "    translator, traditional, english, tid, url, url)\n",
    "print reference"
   ]
  },
  {
   "cell_type": "code",
   "execution_count": null,
   "metadata": {
    "collapsed": true
   },
   "outputs": [],
   "source": []
  }
 ],
 "metadata": {
  "kernelspec": {
   "display_name": "Python 2",
   "language": "python",
   "name": "python2"
  },
  "language_info": {
   "codemirror_mode": {
    "name": "ipython",
    "version": 2
   },
   "file_extension": ".py",
   "mimetype": "text/x-python",
   "name": "python",
   "nbconvert_exporter": "python",
   "pygments_lexer": "ipython2",
   "version": "2.7.10"
  }
 },
 "nbformat": 4,
 "nbformat_minor": 0
}
