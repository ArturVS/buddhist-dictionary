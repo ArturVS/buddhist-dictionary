{
 "cells": [
  {
   "cell_type": "markdown",
   "metadata": {},
   "source": [
    "# Notebook for exploring the Chinese-English Buddhist Dictionary"
   ]
  },
  {
   "cell_type": "code",
   "execution_count": 1,
   "metadata": {
    "collapsed": false
   },
   "outputs": [
    {
     "data": {
      "text/html": [
       "<div>\n",
       "<table border=\"1\" class=\"dataframe\">\n",
       "  <thead>\n",
       "    <tr style=\"text-align: right;\">\n",
       "      <th></th>\n",
       "      <th></th>\n",
       "      <th>simplified</th>\n",
       "      <th>traditional</th>\n",
       "      <th>pinyin</th>\n",
       "      <th>english</th>\n",
       "      <th>notes</th>\n",
       "    </tr>\n",
       "    <tr>\n",
       "      <th>headword</th>\n",
       "      <th>id</th>\n",
       "      <th></th>\n",
       "      <th></th>\n",
       "      <th></th>\n",
       "      <th></th>\n",
       "      <th></th>\n",
       "    </tr>\n",
       "  </thead>\n",
       "  <tbody>\n",
       "    <tr>\n",
       "      <th rowspan=\"2\" valign=\"top\">46847</th>\n",
       "      <th>46847</th>\n",
       "      <td>脡</td>\n",
       "      <td>\\N</td>\n",
       "      <td>tǐng</td>\n",
       "      <td>strips of dried meat / jerky</td>\n",
       "      <td>(Unihan '脡')</td>\n",
       "    </tr>\n",
       "    <tr>\n",
       "      <th>46863</th>\n",
       "      <td>脡</td>\n",
       "      <td>\\N</td>\n",
       "      <td>tǐng</td>\n",
       "      <td>stiff and straight</td>\n",
       "      <td>(Unihan '脡')</td>\n",
       "    </tr>\n",
       "  </tbody>\n",
       "</table>\n",
       "</div>"
      ],
      "text/plain": [
       "               simplified traditional pinyin                       english  \\\n",
       "headword id                                                                  \n",
       "46847    46847          脡          \\N   tǐng  strips of dried meat / jerky   \n",
       "         46863          脡          \\N   tǐng            stiff and straight   \n",
       "\n",
       "                       notes  \n",
       "headword id                   \n",
       "46847    46847  (Unihan '脡')  \n",
       "         46863  (Unihan '脡')  "
      ]
     },
     "execution_count": 1,
     "metadata": {},
     "output_type": "execute_result"
    }
   ],
   "source": [
    "import re\n",
    "\n",
    "import pandas as pd\n",
    "import numpy as np\n",
    "\n",
    "import curation_util\n",
    "from korean import getkoreanid\n",
    "from taisho import geturl\n",
    "from taisho import saveScrolls\n",
    "\n",
    "# Load words table\n",
    "colnames = ['id', 'simplified', 'traditional', 'pinyin', \n",
    "            'english', 'grammar', 'concept_cn', 'concept_en', \n",
    "            'domain_cn', 'domain_en', 'subdomain_cn', 'subdomain_en',\n",
    "            'image', 'mp3', 'notes', 'headword']\n",
    "types = {'id': np.uint32, 'simplified': unicode, 'traditional': unicode, \n",
    "        'pinyin': np.object, 'english': np.object, 'grammar': np.object,\n",
    "        'concept_cn': np.object, 'concept_en': np.object,\n",
    "        'domain_cn': np.object, 'domain_en': np.object, 'subdomain_cn': np.object,\n",
    "         'subdomain_en': np.object, 'image': np.object, 'mp3': np.object,\n",
    "         'notes': np.object, 'headword': np.uint32}\n",
    "index_col = ['headword', 'id']\n",
    "df = pd.read_table('../data/dictionary/words.txt', names=colnames, dtype=types,\n",
    "                  index_col = index_col)\n",
    "cols = [\"simplified\", \"traditional\", \"pinyin\", \"english\", \"notes\"]\n",
    "df[df.simplified == '脡'][cols]"
   ]
  },
  {
   "cell_type": "code",
   "execution_count": 2,
   "metadata": {
    "collapsed": false
   },
   "outputs": [
    {
     "name": "stdout",
     "output_type": "stream",
     "text": [
      "Translator 圓仁請 not in dictionary\n",
      "GetTranslatorEn: Translator '圓仁請' not found\n",
      "孔雀經真言等梵本\n"
     ]
    }
   ],
   "source": [
    "# Load an entry from the Taisho canon\n",
    "# Input\n",
    "tid = \"983B\"\n",
    "\n",
    "# Generated\n",
    "entry = curation_util.GetEntry(tid)\n",
    "title_cn = entry[\"title\"]\n",
    "print title_cn\n"
   ]
  },
  {
   "cell_type": "code",
   "execution_count": 3,
   "metadata": {
    "collapsed": false
   },
   "outputs": [
    {
     "name": "stdout",
     "output_type": "stream",
     "text": [
      "47822\n",
      "New word\n",
      "孔雀经真言等梵本\n",
      "孔雀經真言等梵本\n",
      "kǒngquè jīng zhēnyán děng Fàn běn \n",
      "Mahāmāyūrīvidyārājñī / Kongque Jing Zhenyan Deng Fan Ben\n"
     ]
    }
   ],
   "source": [
    "# Conversions for a word based on a traditional characters\n",
    "#title_cn = u\"胎藏界\"\n",
    "sanskrit = u\"Mahāmāyūrīvidyārājñī\"\n",
    "english = u\"\"\n",
    "grammar = \"noun\"\n",
    "concept = u\"\\\\N\\t\\\\N\"\n",
    "#concept = u\"佛\\tBuddha\"\n",
    "#concept = u\"菩萨\\tBodhisattva\"\n",
    "concept = u\"经\\tSūtra\"\n",
    "#subdomain = u\"中国佛教\\tChinese Buddhism\"\n",
    "subdomain = u\"\\\\N\\t\\\\N\"\n",
    "#subdomain = u\"大乘佛教\\tMahāyāna Buddhism\"\n",
    "#subdomain = u\"密教\\tEsoteric Buddhism\"\n",
    "\n",
    "# Generated\n",
    "luid = df.count()[0] + 1 #np.amax(df.index.values)[0] + 1\n",
    "print luid\n",
    "tradArr = curation_util.ExtractWords(title_cn)\n",
    "if len(tradArr) == 1:\n",
    "  print \"Existing word\"\n",
    "else:\n",
    "  print \"New word\"\n",
    "domain = u\"佛教\\tBuddhism\"\n",
    "#domain = u\"古文\\tClassical Chinese\"\n",
    "traditional = \"\"\n",
    "simplified = \"\"\n",
    "pinyin = \"\"\n",
    "for t in tradArr:\n",
    "  sDF = df[df.traditional == t]['simplified']\n",
    "  tDF = df[df.traditional == t]['traditional']\n",
    "  pDF = df[df.traditional == t]['pinyin']\n",
    "  if sDF.count() > 0:\n",
    "    simplified += sDF.iloc[0].decode('utf-8')\n",
    "    traditional +=tDF.iloc[0].decode('utf-8')\n",
    "    pinyin += pDF.iloc[0].decode('utf-8') + \" \"\n",
    "  else:\n",
    "    sDF = df[df.simplified == t]['simplified']\n",
    "    tDF = df[df.simplified == t]['simplified']\n",
    "    pDF = df[df.simplified == t]['pinyin']\n",
    "    if sDF.count() > 0:\n",
    "      simplified += sDF.iloc[0].decode('utf-8')\n",
    "      traditional += sDF.iloc[0].decode('utf-8')\n",
    "      pinyin += pDF.iloc[0].decode('utf-8') + \" \"\n",
    "    else:\n",
    "      print \"%s not found\" % t\n",
    "pinyin.strip()\n",
    "print simplified\n",
    "trad = traditional\n",
    "if simplified == traditional:\n",
    "  trad = \"\\\\N\"\n",
    "\n",
    "# Do some guessing on the best English name\n",
    "title_en = u\"\"\n",
    "if english == \"\":\n",
    "  english = curation_util.P2englishPN(pinyin)\n",
    "if sanskrit != \"\":\n",
    "  if english != \"\":\n",
    "    english, title_en = u\"%s / %s\" % (sanskrit, english), u\"%s (%s)\" % (sanskrit, english)\n",
    "  else:\n",
    "    english = u\"%s\" % sanskrit\n",
    "if title_en == \"\":\n",
    "  title_en = english\n",
    "\n",
    "print trad\n",
    "print pinyin\n",
    "print english"
   ]
  },
  {
   "cell_type": "code",
   "execution_count": 4,
   "metadata": {
    "collapsed": false
   },
   "outputs": [
    {
     "name": "stdout",
     "output_type": "stream",
     "text": [
      "47822\t孔雀经真言等梵本\t孔雀經真言等梵本\tkǒngquèjīngzhēnyánděngFànběn\tMahāmāyūrīvidyārājñī / Kongque Jing Zhenyan Deng Fan Ben\tnoun\t经\tSūtra\t佛教\tBuddhism\t\\N\t\\N\t\\N\t\\N\tFrom Sanskrit: Mahāmāyūrīvidyārājñī; the name of a bodhisattva who is central in the 《阿差末菩薩經》Akṣayamatinirdeśasūtra in the Chinese Buddhist canon (BL 'Mahāmāyūrīvidyārājñī'; FGDB '孔雀經真言等梵本')\t47822\n"
     ]
    }
   ],
   "source": [
    "# Template for a dictionary entry for a Buddhist term\n",
    "# Input\n",
    "colophon_cn = u\"\"\"第 %d 冊　No. %s\n",
    "\n",
    "%s\n",
    "%s%s %s%s\n",
    "\n",
    "共 %d 卷\"\"\"\n",
    "volume = entry[\"volume\"]\n",
    "dynasty_cn = entry[\"dynasty\"]\n",
    "dynasty_en = entry[\"dynasty_en\"]\n",
    "translator_cn = entry[\"translator\"]\n",
    "translator_en = entry[\"translator_en\"]\n",
    "nscrolls = entry[\"nscrolls\"]\n",
    "compiledby_cn = entry[\"compiledby_cn\"]\n",
    "compiledby_en = entry[\"compiledby_en\"]\n",
    "if compiledby_cn != \"\":\n",
    "  compiledby_cn += \" \"\n",
    "how_cn = entry[\"how_cn\"]\n",
    "how_en = entry[\"how_en\"]\n",
    "colophon_cn = colophon_cn % (volume, tid, title_cn, compiledby_cn, dynasty_cn, translator_cn, how_cn, nscrolls)\n",
    "#(volume, tid, nscrolls, translator_en, dynasty) = curation_util.ExtractFromColophon(colophon_cn)\n",
    "kid = getkoreanid(tid)\n",
    "\n",
    "pali = u\"\"\n",
    "japanese = u\"\"\n",
    "\n",
    "# References\n",
    "abc = u\"ABC '%s'\" % pinyin\n",
    "bl = u\"BL '%s'\" % sanskrit\n",
    "bscd = u\"BCSD '%s'\" % traditional\n",
    "ccd = u\"CCD '%s'\" % simplified\n",
    "fe = u\"FE '%s'\" % traditional\n",
    "fgdb = u\"FGDB '%s'\" % traditional\n",
    "gced = u\"GCED '%s'\" % traditional[0]\n",
    "ghdc = u\"GHDC '%s'\" % simplified\n",
    "jebd = u\"JEBD '%s'\" % japanese\n",
    "kdc = u\"KDC %s\" % kid\n",
    "mw = u\"MW '%s'\" % sanskrit\n",
    "ncced = u\"NCCED '%s'\" % simplified\n",
    "t = u\"T %s\" % tid\n",
    "if kid != \"0\":\n",
    "  refArr = [kdc, t] # Add based on references checked\n",
    "else:\n",
    "  refArr = [t]\n",
    "\n",
    "# Generated\n",
    "if grammar != \"proper noun\":\n",
    "  pinyin = pinyin.replace(\" \", \"\")\n",
    "\n",
    "# Sanskrit, Pali, and Japanese equivalents\n",
    "fromLang = \"\"\n",
    "if sanskrit != \"\":\n",
    "  fromLang = u\"From Sanskrit: %s\" % sanskrit\n",
    "if pali != \"\":\n",
    "  fromLang += u\", Pali: %s\" % pali\n",
    "if japanese != \"\":\n",
    "  fromLang += u\", Japanese: %s\" % japanese\n",
    "if fromLang != \"\":\n",
    "  fromLang += u\"; \"\n",
    "\n",
    "# References\n",
    "ref = u\"\"\n",
    "for r in refArr:\n",
    "  if r != \"\":\n",
    "    ref += r + \"; \"\n",
    "ref = re.sub(\"; $\", \"\", ref)\n",
    "if ref != \"\":\n",
    "  ref = u\"(%s)\" % ref\n",
    "\n",
    "note = u\"the name of a bodhisattva who is central in the 《阿差末菩薩經》Akṣayamatinirdeśasūtra in the Chinese Buddhist canon \"\n",
    "\n",
    "notes = u\"%s%s%s\" % (fromLang, note, ref)\n",
    "print u\"%d\\t%s\\t%s\\t%s\\t%s\\t%s\\t%s\\t%s\\t%s\\t\\\\N\\t\\\\N\\t%s\\t%d\" % (\n",
    "    luid, simplified, trad, pinyin, english, grammar, concept, domain, subdomain, notes, luid)"
   ]
  },
  {
   "cell_type": "code",
   "execution_count": 5,
   "metadata": {
    "collapsed": false
   },
   "outputs": [
    {
     "name": "stdout",
     "output_type": "stream",
     "text": [
      "47822\t孔雀经真言等梵本\t孔雀經真言等梵本\tkǒngquèjīngzhēnyánděngFànběn\tMahāmāyūrīvidyārājñī / Kongque Jing Zhenyan Deng Fan Ben\tnoun\t\\N\t\\N\t佛教\tBuddhism\t\\N\t\\N\t\\N\t\\N\tBuddhist monastic who translated texts included in the Chinese Buddhist canon (BL 'Mahāmāyūrīvidyārājñī'; FGDB '孔雀經真言等梵本')\t47822\n"
     ]
    }
   ],
   "source": [
    "# Template for a dictionary entry for a monastic\n",
    "#concept = u\"法师\\tMonastic\"\n",
    "concept = u\"\\\\N\\t\\\\N\"\n",
    "daterange = u\"\"\n",
    "notes = u\"%sBuddhist monastic who translated texts included in the Chinese Buddhist canon %s\" % (daterange, ref)\n",
    "#notes = u\"See 曼荼羅\"\n",
    "print u\"%d\\t%s\\t%s\\t%s\\t%s\\t%s\\t%s\\t%s\\t%s\\t\\\\N\\t\\\\N\\t%s\\t%d\" % (\n",
    "    luid, simplified, trad, pinyin, english, grammar, concept, domain, subdomain, notes, luid)"
   ]
  },
  {
   "cell_type": "code",
   "execution_count": 6,
   "metadata": {
    "collapsed": false
   },
   "outputs": [
    {
     "name": "stdout",
     "output_type": "stream",
     "text": [
      "47822\t孔雀经真言等梵本\t孔雀經真言等梵本\tkǒngquèjīngzhēnyánděngFànběn\tMahāmāyūrīvidyārājñī / Kongque Jing Zhenyan Deng Fan Ben\tnoun\t经\tSutra\t佛教\tBuddhism\t\\N\t\\N\t\\N\t\\N\tFrom Sanskrit: Mahāmāyūrīvidyārājñī; the name of a text in the Chinese Buddhist canon (BL 'Mahāmāyūrīvidyārājñī'; FGDB '孔雀經真言等梵本')\t47822\n",
      "\n",
      "Writing colophon to ../corpus/taisho/t0983B_00.txt\n",
      "saveScrollFromWeb, title: 孔雀經真言等梵本\n",
      "http://tripitaka.cbeta.org/T19n0983B_001\n",
      "juanname' '孔雀經真言等梵本', tidStr = '0983B'\n",
      "start, juanname: 孔雀經真言等梵本, m.group(2): \n"
     ]
    }
   ],
   "source": [
    "# Add a title from the Taisho to the dictionary and corpus\n",
    "# Template for a Taisho title as a word entry in the dictionary\n",
    "\n",
    "# Input\n",
    "daterange = u\"\"\n",
    "if kid == \"0\" and daterange == \"\":\n",
    "  dateranges = {\"Later Han\": \"25-220\",\n",
    "                \"Liang\": \"502-557\",\n",
    "                \"Liu Song\": \"420-479\",\n",
    "                \"Tang\": \"618-907\",\n",
    "                \"Song\": \"960-1279\",\n",
    "                \"Yuan\": \"1279-1368\",\n",
    "                \"Ming\": \"1368-1644\",\n",
    "                \"Qing\": \"1644-1911\",\n",
    "                \"Korean Goryeo\": \"918-1392\"}\n",
    "  if dynasty_en in dateranges:\n",
    "    daterange = dateranges[dynasty_en]\n",
    "url = geturl(volume, tid)\n",
    "genre = u\"esoteric\"\n",
    "concept = u\"经\\tSutra\"\n",
    "\n",
    "# Add a separate entry if the title begins with 佛說\n",
    "if traditional[:2] == u\"佛說\":\n",
    "  trad = traditional[2:]\n",
    "  notes = u\"See %s\" % trad\n",
    "  print u\"%d\\t%s\\t%s\\t%s\\t%s\\t%s\\t%s\\t%s\\t%s\\t\\\\N\\t\\\\N\\t%s\\t%d\" % (\n",
    "    luid, simplified, traditional, pinyin, english, grammar, concept, domain, subdomain, notes, luid)\n",
    "  luid += 1\n",
    "  simplified = simplified[2:]\n",
    "  pinyin = pinyin.replace(u\"Fó shuō \", \"\").strip()\n",
    "  english = english.replace(u\"Fo Shuo \", \"\").strip()\n",
    "\n",
    "the = u\"the\"\n",
    "if fromLang == \"\":\n",
    "  the = u\"The\"\n",
    "notes = u\"%s%s name of a text in the Chinese Buddhist canon %s\" % (\n",
    "    fromLang, the, ref)\n",
    "print u\"%d\\t%s\\t%s\\t%s\\t%s\\t%s\\t%s\\t%s\\t%s\\t\\\\N\\t\\\\N\\t%s\\t%d\" % (\n",
    "    luid, simplified, trad, pinyin, english, grammar, concept, domain, subdomain, notes, luid)\n",
    "print\n",
    "\n",
    "# Full title of the Taisho entry\n",
    "title = u\"%s 《%s》\" % (title_en, traditional)\n",
    "title_html = u\"          <tr>\\n\"\n",
    "title_html += u\"            <td>%s</td>\\n\" % tid\n",
    "title_html += u\"            <td><a href='/taisho/t0%s.html'>%s</a></td>\\n\" % (tid, title)\n",
    "title_html += u\"          </tr>\\n\\n\"\n",
    "title_html += u\"          {{next_title}}\"\n",
    "curation_util.InsertIntoVolume(volume, title_html)\n",
    "\n",
    "# Collection entry\n",
    "curation_util.WriteCollectionEntry(tid, title, translator_en, daterange, genre, how_en)\n",
    "\n",
    "# Write list of scrolls to metadata file\n",
    "scrollsDF = pd.DataFrame({\"i\": range(1, nscrolls + 1)})\n",
    "genSource = lambda i: \"taisho/t0%s_0%s.txt\" % (tid, i) if (i < 10) else \"taisho/t0%s_%s.txt\" % (tid, i)\n",
    "scrollsDF['source'] = scrollsDF['i'].map(genSource)\n",
    "genOut = lambda i: \"taisho/t0%s_0%d.html\" % (tid, i) if (i < 10) else \"taisho/t0%s_%d.html\" % (tid, i)\n",
    "scrollsDF['output'] = scrollsDF['i'].map(genOut)\n",
    "genTitle = lambda i: \"Scroll %d\" % i\n",
    "scrollsDF['title'] = scrollsDF['i'].map(genTitle)\n",
    "filename = \"../data/corpus/taisho/t0%s.csv\" % tid \n",
    "cols = ['source', 'output', 'title']\n",
    "scrollsDF.to_csv(filename, sep = \"\\t\", header = False, columns = cols, index = False)\n",
    "\n",
    "# Translation of colophon\n",
    "curation_util.WriteColophon(tid, colophon_cn, volume, title_en, traditional, url, nscrolls, kid, sanskrit, \n",
    "              translator_en, dynasty_en, daterange, compiledby_en, how_en)\n",
    "saveScrolls(volume, tid, nscrolls, traditional)"
   ]
  },
  {
   "cell_type": "code",
   "execution_count": null,
   "metadata": {
    "collapsed": true
   },
   "outputs": [],
   "source": []
  }
 ],
 "metadata": {
  "kernelspec": {
   "display_name": "Python 2",
   "language": "python",
   "name": "python2"
  },
  "language_info": {
   "codemirror_mode": {
    "name": "ipython",
    "version": 2
   },
   "file_extension": ".py",
   "mimetype": "text/x-python",
   "name": "python",
   "nbconvert_exporter": "python",
   "pygments_lexer": "ipython2",
   "version": "2.7.10"
  }
 },
 "nbformat": 4,
 "nbformat_minor": 0
}
