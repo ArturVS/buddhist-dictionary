{
 "cells": [
  {
   "cell_type": "markdown",
   "metadata": {},
   "source": [
    "# Notebook for exploring the Chinese-English Buddhist Dictionary"
   ]
  },
  {
   "cell_type": "code",
   "execution_count": 54,
   "metadata": {
    "collapsed": false
   },
   "outputs": [
    {
     "data": {
      "text/html": [
       "<div>\n",
       "<table border=\"1\" class=\"dataframe\">\n",
       "  <thead>\n",
       "    <tr style=\"text-align: right;\">\n",
       "      <th></th>\n",
       "      <th></th>\n",
       "      <th>simplified</th>\n",
       "      <th>traditional</th>\n",
       "      <th>pinyin</th>\n",
       "      <th>english</th>\n",
       "      <th>notes</th>\n",
       "    </tr>\n",
       "    <tr>\n",
       "      <th>headword</th>\n",
       "      <th>id</th>\n",
       "      <th></th>\n",
       "      <th></th>\n",
       "      <th></th>\n",
       "      <th></th>\n",
       "      <th></th>\n",
       "    </tr>\n",
       "  </thead>\n",
       "  <tbody>\n",
       "  </tbody>\n",
       "</table>\n",
       "</div>"
      ],
      "text/plain": [
       "Empty DataFrame\n",
       "Columns: [simplified, traditional, pinyin, english, notes]\n",
       "Index: []"
      ]
     },
     "execution_count": 54,
     "metadata": {},
     "output_type": "execute_result"
    }
   ],
   "source": [
    "import re\n",
    "\n",
    "import pandas as pd\n",
    "import numpy as np\n",
    "\n",
    "from curation_util import ExtractFromColophon\n",
    "from curation_util import ExtractWords\n",
    "from curation_util import P2englishPN\n",
    "from curation_util import WriteColophon\n",
    "\n",
    "# Load words table\n",
    "colnames = ['id', 'simplified', 'traditional', 'pinyin', \n",
    "            'english', 'grammar', 'concept_cn', 'concept_en', \n",
    "            'domain_cn', 'domain_en', 'subdomain_cn', 'subdomain_en',\n",
    "            'image', 'mp3', 'notes', 'headword']\n",
    "types = {'id': np.uint32, 'simplified': unicode, 'traditional': unicode, \n",
    "        'pinyin': np.object, 'english': np.object, 'grammar': np.object,\n",
    "        'concept_cn': np.object, 'concept_en': np.object,\n",
    "        'domain_cn': np.object, 'domain_en': np.object, 'subdomain_cn': np.object,\n",
    "         'subdomain_en': np.object, 'image': np.object, 'mp3': np.object,\n",
    "         'notes': np.object, 'headword': np.uint32}\n",
    "index_col = ['headword', 'id']\n",
    "df = pd.read_table('../data/dictionary/words.txt', names=colnames, dtype=types,\n",
    "                  index_col = index_col)\n",
    "cols = [\"simplified\", \"traditional\", \"pinyin\", \"english\", \"notes\"]\n",
    "df[df.simplified == '藥師琉璃光如來本願功德經'][cols]"
   ]
  },
  {
   "cell_type": "code",
   "execution_count": 55,
   "metadata": {
    "collapsed": false
   },
   "outputs": [
    {
     "name": "stdout",
     "output_type": "stream",
     "text": [
      "New word\n",
      "说无垢称经\n",
      "說無垢稱經\n",
      "shuō wúgòu chēng jīng \n",
      "Vimalakīrtinirdeśasūtra (Shuo Wugou Cheng Jing)\n"
     ]
    }
   ],
   "source": [
    "# Conversions for a word based on a traditional characters\n",
    "# Input\n",
    "title_cn = u\"說無垢稱經\"\n",
    "sanskrit = u\"Vimalakīrtinirdeśasūtra\"\n",
    "english = u\"\"\n",
    "grammar = \"proper noun\"\n",
    "concept = u\"\\\\N\\t\\\\N\"\n",
    "#concept = u\"佛\\tBuddha\"\n",
    "#concept = u\"菩萨\\tBodhisattva\"\n",
    "concept = u\"经\\tSūtra\"\n",
    "#subdomain = u\"中国佛教\\tChinese Buddhism\"\n",
    "#subdomain = u\"\\\\N\\t\\\\N\"\n",
    "subdomain = u\"大乘佛教\\tMahāyāna Buddhism\"\n",
    "\n",
    "# Generated\n",
    "luid = np.amax(df.index.values)[0] + 1\n",
    "tradArr = ExtractWords(title_cn)\n",
    "if len(tradArr) == 1:\n",
    "  print \"Existing word\"\n",
    "else:\n",
    "  print \"New word\"\n",
    "domain = u\"佛教\\tBuddhism\"\n",
    "#domain = u\"古文\\tClassical Chinese\"\n",
    "traditional = \"\"\n",
    "simplified = \"\"\n",
    "pinyin = \"\"\n",
    "for t in tradArr:\n",
    "  sDF = df[df.traditional == t]['simplified']\n",
    "  tDF = df[df.traditional == t]['traditional']\n",
    "  pDF = df[df.traditional == t]['pinyin']\n",
    "  if sDF.count() > 0:\n",
    "    simplified += sDF.iloc[0].decode('utf-8')\n",
    "    traditional +=tDF.iloc[0].decode('utf-8')\n",
    "    pinyin += pDF.iloc[0].decode('utf-8') + \" \"\n",
    "  else:\n",
    "    sDF = df[df.simplified == t]['simplified']\n",
    "    tDF = df[df.simplified == t]['simplified']\n",
    "    pDF = df[df.simplified == t]['pinyin']\n",
    "    if sDF.count() > 0:\n",
    "      simplified += sDF.iloc[0].decode('utf-8')\n",
    "      traditional += sDF.iloc[0].decode('utf-8')\n",
    "      pinyin += pDF.iloc[0].decode('utf-8') + \" \"\n",
    "    else:\n",
    "      print \"%s not found\" % t\n",
    "pinyin.strip()\n",
    "print simplified\n",
    "trad = traditional\n",
    "if simplified == traditional:\n",
    "  trad = \"\\\\N\"\n",
    "\n",
    "# Do some guessing on the best English name\n",
    "if english == \"\":\n",
    "  english = P2englishPN(pinyin)\n",
    "if sanskrit != \"\":\n",
    "  if english != \"\":\n",
    "    english = u\"%s (%s)\" % (sanskrit, english)\n",
    "  else:\n",
    "    english = u\"%s\" % sanskrit\n",
    "\n",
    "print trad\n",
    "print pinyin\n",
    "print english"
   ]
  },
  {
   "cell_type": "code",
   "execution_count": 56,
   "metadata": {
    "collapsed": false
   },
   "outputs": [
    {
     "name": "stdout",
     "output_type": "stream",
     "text": [
      "46253\t说无垢称经\t說無垢稱經\tshuō wúgòu chēng jīng \tVimalakīrtinirdeśasūtra (Shuo Wugou Cheng Jing)\tproper noun\t经\tSūtra\t佛教\tBuddhism\t大乘佛教\tMahāyāna Buddhism\t\\N\t\\N\tFrom Sanskrit: Vimalakīrtinirdeśasūtra; the name of a bodhisattva who is central in the 《阿差末菩薩經》Akṣayamatinirdeśasūtra in the Chinese Buddhist canon (KDC 121; T 476)\t46253\n"
     ]
    }
   ],
   "source": [
    "# Template for a dictionary entry for a Buddhist term\n",
    "# Input\n",
    "tid = u\"476\"\n",
    "kid =121\n",
    "\n",
    "pali = u\"\"\n",
    "japanese = u\"\"\n",
    "\n",
    "# References\n",
    "abc = u\"ABC '%s'\" % pinyin\n",
    "bl = u\"BL '%s'\" % sanskrit\n",
    "bscd = u\"BCSD '%s'\" % traditional\n",
    "ccd = u\"CCD '%s'\" % simplified\n",
    "fe = u\"FE '%s'\" % traditional\n",
    "fgdb = u\"FGDB '%s'\" % traditional\n",
    "gced = u\"GCED '%s'\" % traditional[0]\n",
    "ghdc = u\"GHDC '%s'\" % simplified\n",
    "jebd = u\"JEBD '%s'\" % japanese\n",
    "kdc = u\"KDC %d\" % kid\n",
    "mw = u\"MW '%s'\" % sanskrit\n",
    "ncced = u\"NCCED '%s'\" % simplified\n",
    "t = u\"T %s\" % tid\n",
    "refArr = [kdc, t] # Add based on references checked\n",
    "\n",
    "# Generated\n",
    "if grammar != \"proper noun\":\n",
    "  pinyin = pinyin.replace(\" \", \"\")\n",
    "\n",
    "# Sanskrit, Pali, and Japanese equivalents\n",
    "fromLang = \"\"\n",
    "if sanskrit != \"\":\n",
    "  fromLang = u\"From Sanskrit: %s\" % sanskrit\n",
    "if pali != \"\":\n",
    "  fromLang += u\", Pali: %s\" % pali\n",
    "if japanese != \"\":\n",
    "  fromLang += u\", Japanese: %s\" % japanese\n",
    "if fromLang != \"\":\n",
    "  fromLang += u\"; \"\n",
    "\n",
    "# References\n",
    "ref = u\"\"\n",
    "for r in refArr:\n",
    "  if r != \"\":\n",
    "    ref += r + \"; \"\n",
    "ref = re.sub(\"; $\", \"\", ref)\n",
    "if ref != \"\":\n",
    "  ref = u\"(%s)\" % ref\n",
    "\n",
    "note = u\"the name of a bodhisattva who is central in the 《阿差末菩薩經》Akṣayamatinirdeśasūtra in the Chinese Buddhist canon \"\n",
    "\n",
    "notes = u\"%s%s%s\" % (fromLang, note, ref)\n",
    "print u\"%d\\t%s\\t%s\\t%s\\t%s\\t%s\\t%s\\t%s\\t%s\\t\\\\N\\t\\\\N\\t%s\\t%d\" % (\n",
    "    luid, simplified, trad, pinyin, english, grammar, concept, domain, subdomain, notes, luid)"
   ]
  },
  {
   "cell_type": "code",
   "execution_count": 57,
   "metadata": {
    "collapsed": false
   },
   "outputs": [
    {
     "name": "stdout",
     "output_type": "stream",
     "text": [
      "46253\t说无垢称经\t說無垢稱經\tshuō wúgòu chēng jīng \tVimalakīrtinirdeśasūtra (Shuo Wugou Cheng Jing)\tproper noun\t法师\tMonastic\t佛教\tBuddhism\t大乘佛教\tMahāyāna Buddhism\t\\N\t\\N\t490-589; Chinese monastic who translated sutras in the Chinese Buddhist canon (KDC 121; T 476)\t46253\n"
     ]
    }
   ],
   "source": [
    "# Template for a dictionary entry for a monastic\n",
    "concept = u\"法师\\tMonastic\"\n",
    "daterange = u\"490-589; \"\n",
    "notes = u\"%sChinese monastic who translated sutras in the Chinese Buddhist canon %s\" % (daterange, ref)\n",
    "print u\"%d\\t%s\\t%s\\t%s\\t%s\\t%s\\t%s\\t%s\\t%s\\t\\\\N\\t\\\\N\\t%s\\t%d\" % (\n",
    "    luid, simplified, trad, pinyin, english, grammar, concept, domain, subdomain, notes, luid)"
   ]
  },
  {
   "cell_type": "code",
   "execution_count": 58,
   "metadata": {
    "collapsed": false
   },
   "outputs": [
    {
     "name": "stdout",
     "output_type": "stream",
     "text": [
      "Volume 14\n",
      "nscrolls 6\n",
      "Translator Xuanzang\n",
      "dynasty Tang\n",
      "46253\t说无垢称经\t說無垢稱經\tshuō wúgòu chēng jīng \tVimalakīrtinirdeśasūtra (Shuo Wugou Cheng Jing)\tproper noun\t经\tSutra\t佛教\tBuddhism\t大乘佛教\tMahāyāna Buddhism\t\\N\t\\N\tFrom Sanskrit: Vimalakīrtinirdeśasūtra; the name of a text in the Chinese Buddhist canon (KDC 121; T 476)\t46253\n",
      "\n",
      "          <tr>\n",
      "            <td>476</td>\n",
      "            <td><a href='/taisho/t0476.html'>Vimalakīrtinirdeśasūtra (Shuo Wugou Cheng Jing) 《說無垢稱經》</a></td>\n",
      "          </tr>\n",
      "\n",
      "taisho/t0476.csv\ttaisho/t0476.html\tVimalakīrtinirdeśasūtra (Shuo Wugou Cheng Jing) 《說無垢稱經》\tTranslated by Xuanzang\ttaisho/t0476_00.txt\tTaishō\tSūtra\t650\tjingji\n",
      "\n",
      "Writing colophon to ../corpus/taisho/t0476_00.txt\n"
     ]
    }
   ],
   "source": [
    "# Add a title from the Taisho to the dictionary and corpus\n",
    "# Template for a Taisho title as a word entry in the dictionary\n",
    "\n",
    "# Input\n",
    "colophon_cn = u\"\"\"第 14 冊　No. 0476\n",
    "\n",
    "說無垢稱經\n",
    "唐 玄奘譯\n",
    "\n",
    "共 6 卷\"\"\"\n",
    "daterange = u\"650\"\n",
    "url = u\"http://tripitaka.cbeta.org/T14n0476\"\n",
    "genre = u\"jingji\"\n",
    "concept = u\"经\\tSutra\"\n",
    "\n",
    "# Generated\n",
    "(volume, nscrolls, translator, dynasty) = ExtractFromColophon(colophon_cn)\n",
    "print u\"Volume %d\" % volume\n",
    "print u\"nscrolls %d\" % nscrolls\n",
    "print u\"Translator %s\" % translator\n",
    "print u\"dynasty %s\" % dynasty\n",
    "\n",
    "the = u\"the\"\n",
    "if fromLang == \"\":\n",
    "  the = u\"The\"\n",
    "notes = u\"%s%s name of a text in the Chinese Buddhist canon %s\" % (\n",
    "    fromLang, the, ref)\n",
    "print u\"%d\\t%s\\t%s\\t%s\\t%s\\t%s\\t%s\\t%s\\t%s\\t\\\\N\\t\\\\N\\t%s\\t%d\" % (\n",
    "    luid, simplified, trad, pinyin, english, grammar, concept, domain, subdomain, notes, luid)\n",
    "print\n",
    "\n",
    "# Full title of the Taisho entry\n",
    "title = u\"%s 《%s》\" % (english, traditional)\n",
    "print u\"          <tr>\"\n",
    "print u\"            <td>%s</td>\" % tid\n",
    "print u\"            <td><a href='/taisho/t0%s.html'>%s</a></td>\" % (tid, title)\n",
    "print u\"          </tr>\"\n",
    "print\n",
    "\n",
    "# Collection entry\n",
    "entry = u\"taisho/t0%s.csv\\ttaisho/t0%s.html\\t%s\\tTranslated by %s\\ttaisho/t0%s_00.txt\\tTaishō\\tSūtra\\t%s\\t%s\" % (\n",
    "    tid, tid, title, translator, tid, daterange, genre)\n",
    "print entry\n",
    "print\n",
    "\n",
    "# Write list of scrolls to metadata file\n",
    "scrollsDF = pd.DataFrame({\"i\": range(1, nscrolls + 1)})\n",
    "genSource = lambda i: \"taisho/t0%s_0%s.txt\" % (tid, i) if (i < 10) else \"taisho/t0%s_%s.txt\" % (tid, i)\n",
    "scrollsDF['source'] = scrollsDF['i'].map(genSource)\n",
    "genOut = lambda i: \"taisho/t0%s_0%d.html\" % (tid, i) if (i < 10) else \"taisho/t0%s_%d.html\" % (tid, i)\n",
    "scrollsDF['output'] = scrollsDF['i'].map(genOut)\n",
    "genTitle = lambda i: \"Scroll %d\" % i\n",
    "scrollsDF['title'] = scrollsDF['i'].map(genTitle)\n",
    "filename = \"../data/corpus/taisho/t0%s.csv\" % tid \n",
    "cols = ['source', 'output', 'title']\n",
    "scrollsDF.to_csv(filename, sep = \"\\t\", header = False, columns = cols, index = False)\n",
    "\n",
    "# Translation of colophon\n",
    "WriteColophon(tid, colophon_cn, volume, english, traditional, url, nscrolls, kid, sanskrit, \n",
    "              translator, dynasty, daterange)"
   ]
  },
  {
   "cell_type": "code",
   "execution_count": null,
   "metadata": {
    "collapsed": true
   },
   "outputs": [],
   "source": []
  }
 ],
 "metadata": {
  "kernelspec": {
   "display_name": "Python 2",
   "language": "python",
   "name": "python2"
  },
  "language_info": {
   "codemirror_mode": {
    "name": "ipython",
    "version": 2
   },
   "file_extension": ".py",
   "mimetype": "text/x-python",
   "name": "python",
   "nbconvert_exporter": "python",
   "pygments_lexer": "ipython2",
   "version": "2.7.10"
  }
 },
 "nbformat": 4,
 "nbformat_minor": 0
}
