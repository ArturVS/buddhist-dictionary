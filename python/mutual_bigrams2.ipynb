{
 "cells": [
  {
   "cell_type": "code",
   "execution_count": 1,
   "metadata": {},
   "outputs": [],
   "source": [
    "from urllib2 import urlopen\n",
    "from StringIO import StringIO\n",
    "import gzip\n",
    "import re\n",
    "\n",
    "from char_util import ToSimplified"
   ]
  },
  {
   "cell_type": "code",
   "execution_count": 2,
   "metadata": {},
   "outputs": [],
   "source": [
    "# For downloading and decompressing CCDICT file\n",
    "with open('cedict_1_0_ts_utf-8_mdbg.txt', 'wb') as f:\n",
    "    response = urlopen('https://www.mdbg.net/chinese/export/cedict/cedict_1_0_ts_utf-8_mdbg.txt.gz')\n",
    "    buf = StringIO(response.read())\n",
    "    txt = gzip.GzipFile(fileobj=buf)\n",
    "    f.write(txt.read())"
   ]
  },
  {
   "cell_type": "code",
   "execution_count": 2,
   "metadata": {
    "collapsed": true
   },
   "outputs": [],
   "source": [
    "def get_cedict_definitions(line): #If I used regex in this function, would it be any slower?\n",
    "    for i, char in enumerate(line):\n",
    "        if char == '/':\n",
    "            begin_index = i + 1\n",
    "            break\n",
    "    for i, char in reversed(list(enumerate(line))):\n",
    "        if char == '/':\n",
    "            end_index = i\n",
    "            break\n",
    "    x = line[begin_index:end_index]\n",
    "    definitions = x.split('/')\n",
    "    return definitions"
   ]
  },
  {
   "cell_type": "code",
   "execution_count": 3,
   "metadata": {
    "collapsed": true
   },
   "outputs": [],
   "source": [
    "def get_cedict_categ(line):\n",
    "    definitions = get_cedict_definitions(line)\n",
    "    try:\n",
    "        for definition in definitions:\n",
    "             # This can be expanded to other formats where Buddhism can appear in definitions\n",
    "            if '(Buddhism)' in definition.split():\n",
    "                return 'Buddhism'\n",
    "        # The following must be in order of lowest to highest index required, or else IndexError could be thrown too early\n",
    "        if definitions[0].split()[1].lower() == 'county':\n",
    "            return 'county'\n",
    "        if definitions[0].split()[1].lower() == 'river':\n",
    "            return 'river'\n",
    "        if definitions[0].split()[1].lower() == 'lake' or definitions[0].split()[0] == 'Lake':\n",
    "            return 'lake'\n",
    "        if definitions[0].split()[2].lower() == 'level' and definitions[0].split()[3].lower() == 'city':\n",
    "            return 'city'\n",
    "        if definitions[0].split()[1].lower() == 'district' and definitions[0].split()[4].lower() == 'city':\n",
    "            return 'district'\n",
    "    except IndexError as e:\n",
    "        return 'other'\n",
    "    return 'other'"
   ]
  },
  {
   "cell_type": "code",
   "execution_count": 4,
   "metadata": {
    "collapsed": true
   },
   "outputs": [],
   "source": [
    "def get_pinyin(trad):\n",
    "    _, _, pinyin = ToSimplified(trad)\n",
    "    return pinyin"
   ]
  },
  {
   "cell_type": "code",
   "execution_count": 5,
   "metadata": {},
   "outputs": [],
   "source": [
    "def parse_entry(line):\n",
    "    tokens = re.split(' ', line)\n",
    "    entry = {}\n",
    "    entry[\"traditional\"] = tokens[0]\n",
    "    entry[\"simplified\"] = tokens[1]\n",
    "    entry[\"pinyin\"] = get_pinyin(tokens[0])\n",
    "    return entry"
   ]
  },
  {
   "cell_type": "code",
   "execution_count": null,
   "metadata": {},
   "outputs": [
    {
     "name": "stderr",
     "output_type": "stream",
     "text": [
      "char_util.py:23: UnicodeWarning: Unicode equal comparison failed to convert both arguments to Unicode - interpreting them as being unequal\n",
      "  if simplified == trad:\n"
     ]
    }
   ],
   "source": [
    "trad_list = []\n",
    "temp_dict = {}  # contains mutual bigram info except frequency\n",
    "mutual_bigram_info = {}\n",
    "with open('cedict_1_0_ts_utf-8_mdbg.txt', 'rt') as cedict, open('../../hsingyundl/index/ngram_frequencies.txt', 'rt') as bigram_file:\n",
    "    for line in cedict:\n",
    "        if line[0] == '#':\n",
    "            continue\n",
    "        trad = line.split()[0]\n",
    "        trad_list.append(trad)\n",
    "        temp_dict[trad] = parse_entry(line)\n",
    "    words = set(trad_list) # bigrams is list, words is the same set\n",
    "    for line in bigram_file:\n",
    "        info = line.split()\n",
    "        if info[0] in words:\n",
    "            entry = temp_dict[info[0]]\n",
    "            traditional = info[0]\n",
    "            simplified = entry[\"simplified\"]\n",
    "            pinyin = entry[\"pinyin\"]\n",
    "            print(\"{0}\\t{1}\\t{2}\".format(traditional, simplified, pinyin))\n"
   ]
  },
  {
   "cell_type": "code",
   "execution_count": null,
   "metadata": {
    "collapsed": true
   },
   "outputs": [],
   "source": []
  }
 ],
 "metadata": {
  "kernelspec": {
   "display_name": "Python 2",
   "language": "python",
   "name": "python2"
  },
  "language_info": {
   "codemirror_mode": {
    "name": "ipython",
    "version": 2
   },
   "file_extension": ".py",
   "mimetype": "text/x-python",
   "name": "python",
   "nbconvert_exporter": "python",
   "pygments_lexer": "ipython2",
   "version": "2.7.15"
  }
 },
 "nbformat": 4,
 "nbformat_minor": 1
}
