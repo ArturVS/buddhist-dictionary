{
 "cells": [
  {
   "cell_type": "markdown",
   "metadata": {},
   "source": [
    "# Terminology Extraction "
   ]
  },
  {
   "cell_type": "markdown",
   "metadata": {},
   "source": [
    "This notebook does terminology extraction from bigrams found in the corpus analysis"
   ]
  },
  {
   "cell_type": "code",
   "execution_count": 1,
   "metadata": {},
   "outputs": [
    {
     "name": "stdout",
     "output_type": "stream",
     "text": [
      "Opening the NTI Reader dictionary\n",
      "OpenDictionary completed with 140793 entries\n",
      "Opening the NTI Reader dictionary\n",
      "OpenDictionary completed with 140793 entries\n",
      "Loading:  # Ding Fubao Buddhist Dictionary 《丁福保佛學大辭典》, source http://buddhaspace.org/dict/dfb/data/\n",
      "\n",
      "Number of new words:  9556\n",
      "  Traditional  Occurences\n",
      "0         涅槃界         454\n",
      "1         安樂國         454\n",
      "2          善神         453\n",
      "3          壞色         452\n",
      "4          中劫         452\n",
      "5          修惑         452\n",
      "6         無想處         452\n",
      "7        無邊世界         451\n",
      "8          怨親         451\n",
      "9          二足         451\n"
     ]
    }
   ],
   "source": [
    "import numpy as np\n",
    "import pandas as pd\n",
    "\n",
    "from char_util import ToSimplified\n",
    "from term_extraction import check_ngrams, load_headwords\n",
    "\n",
    "# Loads the headwords from the Ding Fubao Buddhist dictionary\n",
    "dingfubao = load_headwords('dingfubao.txt')\n",
    "# Check the bigrams from corpus analysis against the Ding Fubao headwords\n",
    "check_ngrams(dingfubao)\n",
    "\n",
    "# Report on new words\n",
    "colnames = ['Traditional', 'Occurences']\n",
    "types = {'traditional': np.object, 'Occurences': np.uint32}\n",
    "df = pd.read_csv('newwords.txt', sep='\\t')\n",
    "numnew = df.count()[0]\n",
    "print(\"Number of new words: \", numnew)\n",
    "print(df.head(10))"
   ]
  },
  {
   "cell_type": "code",
   "execution_count": 65,
   "metadata": {},
   "outputs": [],
   "source": [
    "# Load NTI Reader dictionary\n",
    "colnames = ['id', 'simplified', 'traditional', 'pinyin', \n",
    "            'english', 'grammar', 'concept_cn', 'concept_en', \n",
    "            'domain_cn', 'domain_en', 'subdomain_cn', 'subdomain_en',\n",
    "            'image', 'mp3', 'notes', 'headword']\n",
    "types = {'id': np.uint32, 'simplified': np.object, 'traditional': np.object, \n",
    "        'pinyin': np.object, 'english': np.object, 'grammar': np.object,\n",
    "        'concept_cn': np.object, 'concept_en': np.object,\n",
    "        'domain_cn': np.object, 'domain_en': np.object, 'subdomain_cn': np.object,\n",
    "         'subdomain_en': np.object, 'image': np.object, 'mp3': np.object,\n",
    "         'notes': np.object, 'headword': np.uint32}\n",
    "nti_df = pd.read_csv('../data/dictionary/words.txt', names=colnames, dtype=types,\n",
    "                     comment='#', sep='\\t')\n",
    "trad = u\"一壺千金\"\n",
    "#url = u\"http://buddhistinformatics.ddbc.edu.tw/glossaries/search.php?op=search&text=%s&submit=Search\" % trad\n",
    "#print(url)"
   ]
  },
  {
   "cell_type": "code",
   "execution_count": 66,
   "metadata": {},
   "outputs": [
    {
     "name": "stdout",
     "output_type": "stream",
     "text": [
      "113875\t一壶千金\t一壺千金\tyīhúqiānjīn\ta gourd bottle is worth a thousand pieces of gold\tset phrase\t\\N\t\\N\t佛教\tBuddhism\t禅宗\tChan School\t\\N\t\\N\t(FGDB '一壺千金'; SH '一壺千金')\t113875\n"
     ]
    }
   ],
   "source": [
    "# Create a word entry\n",
    "luid = nti_df.count()[0] + 2\n",
    "simplified, traditional, pinyin = ToSimplified(trad)\n",
    "english = u\"a gourd bottle is worth a thousand pieces of gold\"\n",
    "grammar = u\"set phrase\"\n",
    "# Concept\n",
    "empty = u\"\\\\N\\t\\\\N\"\n",
    "arhat = u\"罗汉\\tArhat\"\n",
    "author = u\"作家\\tAuthor\"\n",
    "bodhisattva = u\"菩萨\\tBodhisattva\"\n",
    "book = u\"书名\\tBook Title\"\n",
    "buddha = u\"佛\\tBuddha\"\n",
    "canonical = u\"典籍\\tCanonical Text\"\n",
    "character = u\"人物\\tCharacter\"\n",
    "enumeration = u\"名数\\tEnumeration\"\n",
    "deity = u\"神\\tDeity\"\n",
    "deva = u\"天\\tDeva\"\n",
    "deva_king = u\"天王\\tHeavenly King\"\n",
    "dragon_king = u\"龙王\\tDragon King\"\n",
    "heaven = u\"天\\tHeaven\"\n",
    "koan = u\"公案\\tKoan\"\n",
    "king = u\"国王\\tKing\"\n",
    "kingdom = u\"王国\\tKingdom\"\n",
    "monastic = u\"师父\\tMonastic\"\n",
    "mudra = u\"手印\\tmudrā\"\n",
    "person = u\"人\\tPerson\"\n",
    "pagoda = u\"佛塔\\tPagoda\"\n",
    "post = u\"职事\\tPost\"\n",
    "place = u\"地名\\tPlace Name\"\n",
    "sastra_commentary = u\"论疏\\tŚastra Commentary\"\n",
    "scholar = u\"学者\\tScholar\"\n",
    "school = u\"宗派\\tSchool\"\n",
    "service = u\"法会\\tDharma Service\"\n",
    "state = u\"国\\tState\"\n",
    "sutra = u\"经\\tSutra\"\n",
    "temple = u\"寺院\\tTemple\"\n",
    "treatise = u\"论\\tTreatise\"\n",
    "concept = empty\n",
    "\n",
    "# Domain\n",
    "domain = u\"佛教\\tBuddhism\"\n",
    "#domain = u\"文言文\\tLiterary Chinese\"\n",
    "#domain = u\"现代汉语\\tModern Chinese\"\n",
    "\n",
    "china = u\"中国\\tChina\"\n",
    "chinese_buddhism = u\"中国佛教\\tChinese Buddhism\"\n",
    "chan = u\"禅宗\\tChan School\"\n",
    "esoteric = u\"密教\\tEsoteric Buddhism\"\n",
    "fgs = u\"佛光山\\tFo Guang Shan\"\n",
    "india = u\"印度\\tIndia\"\n",
    "indian = u\"印度佛教\\tIndian Buddhism\"\n",
    "japan = u\"日本佛教\\tJapanese Buddhism\"\n",
    "korea = u\"韓國\\tKorea\"\n",
    "logic = u\"因明\\tBuddhist Logic\"\n",
    "mahayana = u\"大乘佛教\\tMahāyāna Buddhism\"\n",
    "pureland = u\"净土\\tPure Land\"\n",
    "subdomain = chan\n",
    "\n",
    "bcsd = u\"BCSD '%s'\" % trad\n",
    "notes = u\"(FGDB '%s'; SH '%s')\" % (trad, trad)\n",
    "#notes = u\"Variant of 朝参暮请 (FGDB '朝参暮请')\"\n",
    "print(u\"%d\\t%s\\t%s\\t%s\\t%s\\t%s\\t%s\\t%s\\t%s\\t\\\\N\\t\\\\N\\t%s\\t%d\" % (\n",
    "      luid, simplified, traditional, pinyin, english, grammar, \n",
    "      concept, domain, subdomain, notes, luid))"
   ]
  },
  {
   "cell_type": "raw",
   "metadata": {
    "collapsed": true
   },
   "source": []
  }
 ],
 "metadata": {
  "kernelspec": {
   "display_name": "Python 3",
   "language": "python",
   "name": "python3"
  },
  "language_info": {
   "codemirror_mode": {
    "name": "ipython",
    "version": 3
   },
   "file_extension": ".py",
   "mimetype": "text/x-python",
   "name": "python",
   "nbconvert_exporter": "python",
   "pygments_lexer": "ipython3",
   "version": "3.7.2"
  }
 },
 "nbformat": 4,
 "nbformat_minor": 1
}
