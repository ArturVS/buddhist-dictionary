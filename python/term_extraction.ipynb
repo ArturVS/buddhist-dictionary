{
 "cells": [
  {
   "cell_type": "markdown",
   "metadata": {},
   "source": [
    "# Terminology Extraction "
   ]
  },
  {
   "cell_type": "markdown",
   "metadata": {},
   "source": [
    "This notebook does terminology extraction from bigrams found in the corpus analysis"
   ]
  },
  {
   "cell_type": "code",
   "execution_count": 21,
   "metadata": {
    "collapsed": false
   },
   "outputs": [
    {
     "name": "stdout",
     "output_type": "stream",
     "text": [
      "Loading:  # Ding Fubao Buddhist Dictionary 《丁福保佛學大辭典》, source http://buddhaspace.org/dict/dfb/data/\n",
      "\n",
      "Number of new words:  9980\n",
      "   Traditional  Occurences\n",
      "0           廣說       12755\n",
      "1           增上       12267\n",
      "2           大王        9636\n",
      "3           隨眠        9130\n",
      "4           三乘        8437\n",
      "5           四句        7806\n",
      "6           律儀        7071\n",
      "7           一念        6817\n",
      "8           應作        6511\n",
      "9           淨戒        6421\n",
      "10          吉羅        6298\n",
      "11         佛世尊        6167\n",
      "12          施設        6125\n",
      "13          見佛        5932\n",
      "14          一句        5709\n",
      "15          言說        5670\n",
      "16          契經        5626\n",
      "17          法空        5410\n",
      "18          伽羅        5406\n",
      "19          一法        5361\n"
     ]
    }
   ],
   "source": [
    "import numpy as np\n",
    "import pandas as pd\n",
    "\n",
    "from char_util import ToSimplified\n",
    "from term_extraction import check_ngrams, load_headwords\n",
    "\n",
    "# Loads the headwords from the Ding Fubao Buddhist dictionary\n",
    "dingfubao = load_headwords('dingfubao.txt')\n",
    "# Check the bigrams from corpus analysis against the Ding Fubao headwords\n",
    "check_ngrams(dingfubao)\n",
    "\n",
    "# Report on new words\n",
    "colnames = ['Traditional', 'Occurences']\n",
    "types = {'traditional': unicode, 'Occurences': np.uint32}\n",
    "df = pd.read_table('newwords.txt')\n",
    "numnew = df.count()[0]\n",
    "print \"Number of new words: \", numnew\n",
    "print df.head(20)\n"
   ]
  },
  {
   "cell_type": "code",
   "execution_count": 71,
   "metadata": {
    "collapsed": false
   },
   "outputs": [
    {
     "name": "stdout",
     "output_type": "stream",
     "text": [
      "http://buddhistinformatics.ddbc.edu.tw/glossaries/search.php?op=search&text=一法&submit=Search\n"
     ]
    }
   ],
   "source": [
    "# Load NTI Reader dictionary\n",
    "colnames = ['id', 'simplified', 'traditional', 'pinyin', \n",
    "            'english', 'grammar', 'concept_cn', 'concept_en', \n",
    "            'domain_cn', 'domain_en', 'subdomain_cn', 'subdomain_en',\n",
    "            'image', 'mp3', 'notes', 'headword']\n",
    "types = {'id': np.uint32, 'simplified': np.object, 'traditional': np.object, \n",
    "        'pinyin': np.object, 'english': np.object, 'grammar': np.object,\n",
    "        'concept_cn': np.object, 'concept_en': np.object,\n",
    "        'domain_cn': np.object, 'domain_en': np.object, 'subdomain_cn': np.object,\n",
    "         'subdomain_en': np.object, 'image': np.object, 'mp3': np.object,\n",
    "         'notes': np.object, 'headword': np.uint32}\n",
    "nti_df = pd.read_table('../data/dictionary/words.txt', names=colnames, dtype=types)\n",
    "trad = u\"一法\"\n",
    "url = u\"http://buddhistinformatics.ddbc.edu.tw/glossaries/search.php?op=search&text=%s&submit=Search\" % trad\n",
    "print url"
   ]
  },
  {
   "cell_type": "code",
   "execution_count": 72,
   "metadata": {
    "collapsed": false
   },
   "outputs": [
    {
     "name": "stdout",
     "output_type": "stream",
     "text": [
      "一\n",
      "法\n",
      "60399\t一法\t\\N\tyīfǎ\tone dharma / one thing\tnoun\t\\N\t\\N\t佛教\tBuddhism\t\\N\t\\N\t\\N\t\\N\t(Ding '一法'; FGDB '一法'; SH '一法')\t60399\n"
     ]
    }
   ],
   "source": [
    "# Create a word entry\n",
    "luid = nti_df.count()[0] + 1\n",
    "simplified, traditional, pinyin = ToSimplified(trad)\n",
    "english = u\"one dharma / one thing\"\n",
    "grammar = u\"noun\"\n",
    "# Concept\n",
    "empty = u\"\\\\N\\t\\\\N\"\n",
    "concept = empty\n",
    "domain = u\"佛教\\tBuddhism\"\n",
    "subdomain = u\"\\\\N\\t\\\\N\"\n",
    "notes = u\"(Ding '%s'; FGDB '%s'; SH '%s')\" % (trad, trad, trad)\n",
    "#notes = u\"See 伽羅\"\n",
    "print u\"%d\\t%s\\t%s\\t%s\\t%s\\t%s\\t%s\\t%s\\t%s\\t\\\\N\\t\\\\N\\t%s\\t%d\" % (\n",
    "      luid, simplified, traditional, pinyin, english, grammar, \n",
    "      concept, domain, subdomain, notes, luid)"
   ]
  },
  {
   "cell_type": "code",
   "execution_count": null,
   "metadata": {
    "collapsed": true
   },
   "outputs": [],
   "source": []
  }
 ],
 "metadata": {
  "kernelspec": {
   "display_name": "Python 2",
   "language": "python",
   "name": "python2"
  },
  "language_info": {
   "codemirror_mode": {
    "name": "ipython",
    "version": 2
   },
   "file_extension": ".py",
   "mimetype": "text/x-python",
   "name": "python",
   "nbconvert_exporter": "python",
   "pygments_lexer": "ipython2",
   "version": "2.7.10"
  }
 },
 "nbformat": 4,
 "nbformat_minor": 0
}
