{
 "cells": [
  {
   "cell_type": "markdown",
   "metadata": {},
   "source": [
    "# Terminology Extraction "
   ]
  },
  {
   "cell_type": "markdown",
   "metadata": {},
   "source": [
    "This notebook does terminology extraction from bigrams found in the corpus analysis"
   ]
  },
  {
   "cell_type": "code",
   "execution_count": 103,
   "metadata": {
    "collapsed": false
   },
   "outputs": [
    {
     "name": "stdout",
     "output_type": "stream",
     "text": [
      "Loading:  # Ding Fubao Buddhist Dictionary 《丁福保佛學大辭典》, source http://buddhaspace.org/dict/dfb/data/\n",
      "\n",
      "Number of new words:  9556\n",
      "  Traditional  Occurences\n",
      "0         涅槃界         454\n",
      "1         安樂國         454\n",
      "2          善神         453\n",
      "3          壞色         452\n",
      "4          中劫         452\n",
      "5          修惑         452\n",
      "6         無想處         452\n",
      "7        無邊世界         451\n",
      "8          怨親         451\n",
      "9          二足         451\n"
     ]
    }
   ],
   "source": [
    "import numpy as np\n",
    "import pandas as pd\n",
    "\n",
    "from char_util import ToSimplified\n",
    "from term_extraction import check_ngrams, load_headwords\n",
    "\n",
    "# Loads the headwords from the Ding Fubao Buddhist dictionary\n",
    "dingfubao = load_headwords('dingfubao.txt')\n",
    "# Check the bigrams from corpus analysis against the Ding Fubao headwords\n",
    "check_ngrams(dingfubao)\n",
    "\n",
    "# Report on new words\n",
    "colnames = ['Traditional', 'Occurences']\n",
    "types = {'traditional': unicode, 'Occurences': np.uint32}\n",
    "df = pd.read_table('newwords.txt')\n",
    "numnew = df.count()[0]\n",
    "print \"Number of new words: \", numnew\n",
    "print df.head(10)"
   ]
  },
  {
   "cell_type": "code",
   "execution_count": 104,
   "metadata": {
    "collapsed": false
   },
   "outputs": [
    {
     "ename": "ValueError",
     "evalue": "cannot safely convert passed user dtype of <u4 for object dtyped data in column 0",
     "output_type": "error",
     "traceback": [
      "\u001b[0;31m---------------------------------------------------------------------------\u001b[0m",
      "\u001b[0;31mValueError\u001b[0m                                Traceback (most recent call last)",
      "\u001b[0;32m<ipython-input-104-5f1fd80a7ec7>\u001b[0m in \u001b[0;36m<module>\u001b[0;34m()\u001b[0m\n\u001b[1;32m     10\u001b[0m          \u001b[0;34m'subdomain_en'\u001b[0m\u001b[0;34m:\u001b[0m \u001b[0mnp\u001b[0m\u001b[0;34m.\u001b[0m\u001b[0mobject\u001b[0m\u001b[0;34m,\u001b[0m \u001b[0;34m'image'\u001b[0m\u001b[0;34m:\u001b[0m \u001b[0mnp\u001b[0m\u001b[0;34m.\u001b[0m\u001b[0mobject\u001b[0m\u001b[0;34m,\u001b[0m \u001b[0;34m'mp3'\u001b[0m\u001b[0;34m:\u001b[0m \u001b[0mnp\u001b[0m\u001b[0;34m.\u001b[0m\u001b[0mobject\u001b[0m\u001b[0;34m,\u001b[0m\u001b[0;34m\u001b[0m\u001b[0m\n\u001b[1;32m     11\u001b[0m          'notes': np.object, 'headword': np.uint32}\n\u001b[0;32m---> 12\u001b[0;31m \u001b[0mnti_df\u001b[0m \u001b[0;34m=\u001b[0m \u001b[0mpd\u001b[0m\u001b[0;34m.\u001b[0m\u001b[0mread_table\u001b[0m\u001b[0;34m(\u001b[0m\u001b[0;34m'../data/dictionary/words.txt'\u001b[0m\u001b[0;34m,\u001b[0m \u001b[0mnames\u001b[0m\u001b[0;34m=\u001b[0m\u001b[0mcolnames\u001b[0m\u001b[0;34m,\u001b[0m \u001b[0mdtype\u001b[0m\u001b[0;34m=\u001b[0m\u001b[0mtypes\u001b[0m\u001b[0;34m)\u001b[0m\u001b[0;34m\u001b[0m\u001b[0m\n\u001b[0m\u001b[1;32m     13\u001b[0m \u001b[0mtrad\u001b[0m \u001b[0;34m=\u001b[0m \u001b[0;34mu\"波羅樹\"\u001b[0m\u001b[0;34m\u001b[0m\u001b[0m\n\u001b[1;32m     14\u001b[0m \u001b[0murl\u001b[0m \u001b[0;34m=\u001b[0m \u001b[0;34mu\"http://buddhistinformatics.ddbc.edu.tw/glossaries/search.php?op=search&text=%s&submit=Search\"\u001b[0m \u001b[0;34m%\u001b[0m \u001b[0mtrad\u001b[0m\u001b[0;34m\u001b[0m\u001b[0m\n",
      "\u001b[0;32m/Library/Python/2.7/site-packages/pandas/io/parsers.pyc\u001b[0m in \u001b[0;36mparser_f\u001b[0;34m(filepath_or_buffer, sep, delimiter, header, names, index_col, usecols, squeeze, prefix, mangle_dupe_cols, dtype, engine, converters, true_values, false_values, skipinitialspace, skiprows, skipfooter, nrows, na_values, keep_default_na, na_filter, verbose, skip_blank_lines, parse_dates, infer_datetime_format, keep_date_col, date_parser, dayfirst, iterator, chunksize, compression, thousands, decimal, lineterminator, quotechar, quoting, escapechar, comment, encoding, dialect, tupleize_cols, error_bad_lines, warn_bad_lines, skip_footer, doublequote, delim_whitespace, as_recarray, compact_ints, use_unsigned, low_memory, buffer_lines, memory_map, float_precision)\u001b[0m\n\u001b[1;32m    560\u001b[0m                     skip_blank_lines=skip_blank_lines)\n\u001b[1;32m    561\u001b[0m \u001b[0;34m\u001b[0m\u001b[0m\n\u001b[0;32m--> 562\u001b[0;31m         \u001b[0;32mreturn\u001b[0m \u001b[0m_read\u001b[0m\u001b[0;34m(\u001b[0m\u001b[0mfilepath_or_buffer\u001b[0m\u001b[0;34m,\u001b[0m \u001b[0mkwds\u001b[0m\u001b[0;34m)\u001b[0m\u001b[0;34m\u001b[0m\u001b[0m\n\u001b[0m\u001b[1;32m    563\u001b[0m \u001b[0;34m\u001b[0m\u001b[0m\n\u001b[1;32m    564\u001b[0m     \u001b[0mparser_f\u001b[0m\u001b[0;34m.\u001b[0m\u001b[0m__name__\u001b[0m \u001b[0;34m=\u001b[0m \u001b[0mname\u001b[0m\u001b[0;34m\u001b[0m\u001b[0m\n",
      "\u001b[0;32m/Library/Python/2.7/site-packages/pandas/io/parsers.pyc\u001b[0m in \u001b[0;36m_read\u001b[0;34m(filepath_or_buffer, kwds)\u001b[0m\n\u001b[1;32m    323\u001b[0m         \u001b[0;32mreturn\u001b[0m \u001b[0mparser\u001b[0m\u001b[0;34m\u001b[0m\u001b[0m\n\u001b[1;32m    324\u001b[0m \u001b[0;34m\u001b[0m\u001b[0m\n\u001b[0;32m--> 325\u001b[0;31m     \u001b[0;32mreturn\u001b[0m \u001b[0mparser\u001b[0m\u001b[0;34m.\u001b[0m\u001b[0mread\u001b[0m\u001b[0;34m(\u001b[0m\u001b[0;34m)\u001b[0m\u001b[0;34m\u001b[0m\u001b[0m\n\u001b[0m\u001b[1;32m    326\u001b[0m \u001b[0;34m\u001b[0m\u001b[0m\n\u001b[1;32m    327\u001b[0m _parser_defaults = {\n",
      "\u001b[0;32m/Library/Python/2.7/site-packages/pandas/io/parsers.pyc\u001b[0m in \u001b[0;36mread\u001b[0;34m(self, nrows)\u001b[0m\n\u001b[1;32m    813\u001b[0m                 \u001b[0;32mraise\u001b[0m \u001b[0mValueError\u001b[0m\u001b[0;34m(\u001b[0m\u001b[0;34m'skip_footer not supported for iteration'\u001b[0m\u001b[0;34m)\u001b[0m\u001b[0;34m\u001b[0m\u001b[0m\n\u001b[1;32m    814\u001b[0m \u001b[0;34m\u001b[0m\u001b[0m\n\u001b[0;32m--> 815\u001b[0;31m         \u001b[0mret\u001b[0m \u001b[0;34m=\u001b[0m \u001b[0mself\u001b[0m\u001b[0;34m.\u001b[0m\u001b[0m_engine\u001b[0m\u001b[0;34m.\u001b[0m\u001b[0mread\u001b[0m\u001b[0;34m(\u001b[0m\u001b[0mnrows\u001b[0m\u001b[0;34m)\u001b[0m\u001b[0;34m\u001b[0m\u001b[0m\n\u001b[0m\u001b[1;32m    816\u001b[0m \u001b[0;34m\u001b[0m\u001b[0m\n\u001b[1;32m    817\u001b[0m         \u001b[0;32mif\u001b[0m \u001b[0mself\u001b[0m\u001b[0;34m.\u001b[0m\u001b[0moptions\u001b[0m\u001b[0;34m.\u001b[0m\u001b[0mget\u001b[0m\u001b[0;34m(\u001b[0m\u001b[0;34m'as_recarray'\u001b[0m\u001b[0;34m)\u001b[0m\u001b[0;34m:\u001b[0m\u001b[0;34m\u001b[0m\u001b[0m\n",
      "\u001b[0;32m/Library/Python/2.7/site-packages/pandas/io/parsers.pyc\u001b[0m in \u001b[0;36mread\u001b[0;34m(self, nrows)\u001b[0m\n\u001b[1;32m   1312\u001b[0m     \u001b[0;32mdef\u001b[0m \u001b[0mread\u001b[0m\u001b[0;34m(\u001b[0m\u001b[0mself\u001b[0m\u001b[0;34m,\u001b[0m \u001b[0mnrows\u001b[0m\u001b[0;34m=\u001b[0m\u001b[0mNone\u001b[0m\u001b[0;34m)\u001b[0m\u001b[0;34m:\u001b[0m\u001b[0;34m\u001b[0m\u001b[0m\n\u001b[1;32m   1313\u001b[0m         \u001b[0;32mtry\u001b[0m\u001b[0;34m:\u001b[0m\u001b[0;34m\u001b[0m\u001b[0m\n\u001b[0;32m-> 1314\u001b[0;31m             \u001b[0mdata\u001b[0m \u001b[0;34m=\u001b[0m \u001b[0mself\u001b[0m\u001b[0;34m.\u001b[0m\u001b[0m_reader\u001b[0m\u001b[0;34m.\u001b[0m\u001b[0mread\u001b[0m\u001b[0;34m(\u001b[0m\u001b[0mnrows\u001b[0m\u001b[0;34m)\u001b[0m\u001b[0;34m\u001b[0m\u001b[0m\n\u001b[0m\u001b[1;32m   1315\u001b[0m         \u001b[0;32mexcept\u001b[0m \u001b[0mStopIteration\u001b[0m\u001b[0;34m:\u001b[0m\u001b[0;34m\u001b[0m\u001b[0m\n\u001b[1;32m   1316\u001b[0m             \u001b[0;32mif\u001b[0m \u001b[0mself\u001b[0m\u001b[0;34m.\u001b[0m\u001b[0m_first_chunk\u001b[0m\u001b[0;34m:\u001b[0m\u001b[0;34m\u001b[0m\u001b[0m\n",
      "\u001b[0;32mpandas/parser.pyx\u001b[0m in \u001b[0;36mpandas.parser.TextReader.read (pandas/parser.c:8748)\u001b[0;34m()\u001b[0m\n",
      "\u001b[0;32mpandas/parser.pyx\u001b[0m in \u001b[0;36mpandas.parser.TextReader._read_low_memory (pandas/parser.c:9003)\u001b[0;34m()\u001b[0m\n",
      "\u001b[0;32mpandas/parser.pyx\u001b[0m in \u001b[0;36mpandas.parser.TextReader._read_rows (pandas/parser.c:10022)\u001b[0;34m()\u001b[0m\n",
      "\u001b[0;32mpandas/parser.pyx\u001b[0m in \u001b[0;36mpandas.parser.TextReader._convert_column_data (pandas/parser.c:11397)\u001b[0;34m()\u001b[0m\n",
      "\u001b[0;32mpandas/parser.pyx\u001b[0m in \u001b[0;36mpandas.parser.TextReader._convert_tokens (pandas/parser.c:12775)\u001b[0;34m()\u001b[0m\n",
      "\u001b[0;31mValueError\u001b[0m: cannot safely convert passed user dtype of <u4 for object dtyped data in column 0"
     ]
    }
   ],
   "source": [
    "# Load NTI Reader dictionary\n",
    "colnames = ['id', 'simplified', 'traditional', 'pinyin', \n",
    "            'english', 'grammar', 'concept_cn', 'concept_en', \n",
    "            'domain_cn', 'domain_en', 'subdomain_cn', 'subdomain_en',\n",
    "            'image', 'mp3', 'notes', 'headword']\n",
    "types = {'id': np.uint32, 'simplified': np.object, 'traditional': np.object, \n",
    "        'pinyin': np.object, 'english': np.object, 'grammar': np.object,\n",
    "        'concept_cn': np.object, 'concept_en': np.object,\n",
    "        'domain_cn': np.object, 'domain_en': np.object, 'subdomain_cn': np.object,\n",
    "         'subdomain_en': np.object, 'image': np.object, 'mp3': np.object,\n",
    "         'notes': np.object, 'headword': np.uint32}\n",
    "nti_df = pd.read_table('../data/dictionary/words.txt', names=colnames, dtype=types, comment='#')\n",
    "trad = u\"波羅樹\"\n",
    "url = u\"http://buddhistinformatics.ddbc.edu.tw/glossaries/search.php?op=search&text=%s&submit=Search\" % trad\n",
    "print url"
   ]
  },
  {
   "cell_type": "code",
   "execution_count": 102,
   "metadata": {
    "collapsed": false
   },
   "outputs": [
    {
     "name": "stdout",
     "output_type": "stream",
     "text": [
      "88924\t波罗树\t波羅樹\tbōluóshù\tpāṭali tree\tnoun\t\\N\t\\N\t佛教\tBuddhism\t印度\tIndia\t\\N\t\\N\tSee 波吒釐樹\t88924\n"
     ]
    }
   ],
   "source": [
    "# Create a word entry\n",
    "luid = nti_df.count()[0] + 1\n",
    "simplified, traditional, pinyin = ToSimplified(trad)\n",
    "english = u\"pāṭali tree\"\n",
    "grammar = u\"noun\"\n",
    "# Concept\n",
    "empty = u\"\\\\N\\t\\\\N\"\n",
    "arhat = u\"罗汉\\tArhat\"\n",
    "author = u\"作家\\tAuthor\"\n",
    "bodhisattva = u\"菩萨\\tBodhisattva\"\n",
    "book = u\"书名\\tBook Title\"\n",
    "buddha = u\"佛\\tBuddha\"\n",
    "canonical = u\"典籍\\tCanonical Text\"\n",
    "character = u\"人物\\tCharacter\"\n",
    "enumeration = u\"名数\\tEnumeration\"\n",
    "deva = u\"天\\tDeva\"\n",
    "deva_king = u\"天王\\tHeavenly King\"\n",
    "heaven = u\"天\\tHeaven\"\n",
    "king = u\"国王\\tKing\"\n",
    "kingdom = u\"王国\\tKingdom\"\n",
    "monastic = u\"师父\\tMonastic\"\n",
    "mudra = u\"手印\\tmudrā\"\n",
    "person = u\"人\\tPerson\"\n",
    "pagoda = u\"佛塔\\tPagoda\"\n",
    "post = u\"职事\\tPost\"\n",
    "place = u\"地名\\tPlace Name\"\n",
    "scholar = u\"学者\\tScholar\"\n",
    "service = u\"法会\\tDharma Service\"\n",
    "state = u\"国\\tState\"\n",
    "sutra = u\"经\\tSutra\"\n",
    "temple = u\"寺院\\tTemple\"\n",
    "concept = empty\n",
    "\n",
    "# Domain\n",
    "domain = u\"佛教\\tBuddhism\"\n",
    "\n",
    "china = u\"中国\\tChina\"\n",
    "chinese_buddhism = u\"中国佛教\\tChinese Buddhism\"\n",
    "chan = u\"禅宗\\tChan School\"\n",
    "esoteric = u\"密教\\tEsoteric Buddhism\"\n",
    "fgs = u\"佛光山\\tFo Guang Shan\"\n",
    "japan = u\"日本佛教\\tJapanese Buddhism\"\n",
    "korea = u\"韓國\\tKorea\"\n",
    "india = u\"印度\\tIndia\"\n",
    "indian = u\"印度佛教\\tIndian Buddhism\"\n",
    "mahayana = u\"大乘佛教\\tMahāyāna Buddhism\"\n",
    "subdomain = india\n",
    "\n",
    "bcsd = u\"BCSD '%s'\" % trad\n",
    "notes = u\"(Ding '%s'; FGDB '%s'; SH '%s')\" % (trad, trad, trad)\n",
    "notes = u\"See 波吒釐樹\"\n",
    "print u\"%d\\t%s\\t%s\\t%s\\t%s\\t%s\\t%s\\t%s\\t%s\\t\\\\N\\t\\\\N\\t%s\\t%d\" % (\n",
    "      luid, simplified, traditional, pinyin, english, grammar, \n",
    "      concept, domain, subdomain, notes, luid)"
   ]
  },
  {
   "cell_type": "raw",
   "metadata": {
    "collapsed": true
   },
   "source": []
  }
 ],
 "metadata": {
  "kernelspec": {
   "display_name": "Python 2",
   "language": "python",
   "name": "python2"
  },
  "language_info": {
   "codemirror_mode": {
    "name": "ipython",
    "version": 2
   },
   "file_extension": ".py",
   "mimetype": "text/x-python",
   "name": "python",
   "nbconvert_exporter": "python",
   "pygments_lexer": "ipython2",
   "version": "2.7.10"
  }
 },
 "nbformat": 4,
 "nbformat_minor": 0
}
