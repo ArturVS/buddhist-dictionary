{
 "cells": [
  {
   "cell_type": "markdown",
   "metadata": {},
   "source": [
    "# Terminology Extraction "
   ]
  },
  {
   "cell_type": "markdown",
   "metadata": {},
   "source": [
    "This notebook does terminology extraction from bigrams found in the corpus analysis"
   ]
  },
  {
   "cell_type": "code",
   "execution_count": 689,
   "metadata": {
    "collapsed": false
   },
   "outputs": [
    {
     "name": "stdout",
     "output_type": "stream",
     "text": [
      "Loading:  # Ding Fubao Buddhist Dictionary 《丁福保佛學大辭典》, source http://buddhaspace.org/dict/dfb/data/\n",
      "\n",
      "Number of new words:  10053\n",
      "   Traditional  Occurences\n",
      "0           一類        1987\n",
      "1          無上道        1976\n",
      "2           佛地        1970\n",
      "3           釋子        1969\n",
      "4           隨逐        1965\n",
      "5          自相空        1961\n",
      "6           一明        1958\n",
      "7           波旬        1942\n",
      "8           四分        1933\n",
      "9           等持        1931\n",
      "10          正觀        1916\n",
      "11          身界        1902\n",
      "12          能緣        1892\n",
      "13          教誡        1874\n",
      "14          說經        1856\n",
      "15          一佛        1851\n",
      "16          二邊        1844\n",
      "17          知法        1844\n",
      "18         三菩提        1843\n",
      "19          覺觀        1840\n"
     ]
    }
   ],
   "source": [
    "import numpy as np\n",
    "import pandas as pd\n",
    "\n",
    "from char_util import ToSimplified\n",
    "from term_extraction import check_ngrams, load_headwords\n",
    "\n",
    "# Loads the headwords from the Ding Fubao Buddhist dictionary\n",
    "dingfubao = load_headwords('dingfubao.txt')\n",
    "# Check the bigrams from corpus analysis against the Ding Fubao headwords\n",
    "check_ngrams(dingfubao)\n",
    "\n",
    "# Report on new words\n",
    "colnames = ['Traditional', 'Occurences']\n",
    "types = {'traditional': unicode, 'Occurences': np.uint32}\n",
    "df = pd.read_table('newwords.txt')\n",
    "numnew = df.count()[0]\n",
    "print \"Number of new words: \", numnew\n",
    "print df.head(20)\n"
   ]
  },
  {
   "cell_type": "code",
   "execution_count": 690,
   "metadata": {
    "collapsed": false
   },
   "outputs": [
    {
     "name": "stdout",
     "output_type": "stream",
     "text": [
      "http://buddhistinformatics.ddbc.edu.tw/glossaries/search.php?op=search&text=一類&submit=Search\n"
     ]
    }
   ],
   "source": [
    "# Load NTI Reader dictionary\n",
    "colnames = ['id', 'simplified', 'traditional', 'pinyin', \n",
    "            'english', 'grammar', 'concept_cn', 'concept_en', \n",
    "            'domain_cn', 'domain_en', 'subdomain_cn', 'subdomain_en',\n",
    "            'image', 'mp3', 'notes', 'headword']\n",
    "types = {'id': np.uint32, 'simplified': np.object, 'traditional': np.object, \n",
    "        'pinyin': np.object, 'english': np.object, 'grammar': np.object,\n",
    "        'concept_cn': np.object, 'concept_en': np.object,\n",
    "        'domain_cn': np.object, 'domain_en': np.object, 'subdomain_cn': np.object,\n",
    "         'subdomain_en': np.object, 'image': np.object, 'mp3': np.object,\n",
    "         'notes': np.object, 'headword': np.uint32}\n",
    "nti_df = pd.read_table('../data/dictionary/words.txt', names=colnames, dtype=types)\n",
    "trad = u\"一類\"\n",
    "url = u\"http://buddhistinformatics.ddbc.edu.tw/glossaries/search.php?op=search&text=%s&submit=Search\" % trad\n",
    "print url"
   ]
  },
  {
   "cell_type": "code",
   "execution_count": 691,
   "metadata": {
    "collapsed": false
   },
   "outputs": [
    {
     "name": "stdout",
     "output_type": "stream",
     "text": [
      "62680\t一类\t一類\tyīlèi\tthe same kind\tset phrase\t\\N\t\\N\t古文\tClassical Chinese\t\\N\t\\N\t\\N\t\\N\t(Ding '一類'; FGDB '一類'; SH '一類')\t62680\n"
     ]
    }
   ],
   "source": [
    "# Create a word entry\n",
    "luid = nti_df.count()[0] + 1\n",
    "simplified, traditional, pinyin = ToSimplified(trad)\n",
    "english = u\"the same kind\"\n",
    "grammar = u\"set phrase\"\n",
    "# Concept\n",
    "empty = u\"\\\\N\\t\\\\N\"\n",
    "author = u\"作家\\tAuthor\"\n",
    "book = u\"书\\tBook\"\n",
    "canonical = u\"典籍\\tCanonical Text\"\n",
    "monastic = u\"师父\\tMonastic\"\n",
    "service = u\"法会\\tDharma Service\"\n",
    "concept = empty\n",
    "# Domain\n",
    "buddhism = u\"佛教\\tBuddhism\"\n",
    "classical = u\"古文\\tClassical Chinese\"\n",
    "domain = classical\n",
    "chinese_buddhism = u\"中国佛教\\tChinese Buddhism\"\n",
    "chan = u\"禅宗\\tChan\"\n",
    "esoteric = u\"密教\\tEsoteric Buddhism\"\n",
    "mahayana = u\"大乘佛教\\tMahāyāna Buddhism\"\n",
    "subdomain = empty\n",
    "notes = u\"(Ding '%s'; FGDB '%s'; SH '%s')\" % (trad, trad, trad)\n",
    "#notes = u\"See 證入\"\n",
    "#notes = u\"(CC-CEDICT '%s'; Guoyu '%s')\" % (trad, trad)\n",
    "print u\"%d\\t%s\\t%s\\t%s\\t%s\\t%s\\t%s\\t%s\\t%s\\t\\\\N\\t\\\\N\\t%s\\t%d\" % (\n",
    "      luid, simplified, traditional, pinyin, english, grammar, \n",
    "      concept, domain, subdomain, notes, luid)"
   ]
  },
  {
   "cell_type": "code",
   "execution_count": null,
   "metadata": {
    "collapsed": true
   },
   "outputs": [],
   "source": []
  }
 ],
 "metadata": {
  "kernelspec": {
   "display_name": "Python 2",
   "language": "python",
   "name": "python2"
  },
  "language_info": {
   "codemirror_mode": {
    "name": "ipython",
    "version": 2
   },
   "file_extension": ".py",
   "mimetype": "text/x-python",
   "name": "python",
   "nbconvert_exporter": "python",
   "pygments_lexer": "ipython2",
   "version": "2.7.10"
  }
 },
 "nbformat": 4,
 "nbformat_minor": 0
}
