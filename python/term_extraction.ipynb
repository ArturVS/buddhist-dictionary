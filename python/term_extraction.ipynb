{
 "cells": [
  {
   "cell_type": "markdown",
   "metadata": {},
   "source": [
    "# Terminology Extraction "
   ]
  },
  {
   "cell_type": "markdown",
   "metadata": {},
   "source": [
    "This notebook does terminology extraction from bigrams found in the corpus analysis"
   ]
  },
  {
   "cell_type": "code",
   "execution_count": 102,
   "metadata": {
    "collapsed": false
   },
   "outputs": [
    {
     "name": "stdout",
     "output_type": "stream",
     "text": [
      "Loading:  # Ding Fubao Buddhist Dictionary 《丁福保佛學大辭典》, source http://buddhaspace.org/dict/dfb/data/\n",
      "\n",
      "Number of new words:  9958\n",
      "   Traditional  Occurences\n",
      "0           心王         996\n",
      "1           摩納         994\n",
      "2           領解         990\n",
      "3           泥犁         988\n",
      "4          三昧門         986\n",
      "5          惡知識         986\n",
      "6           解行         985\n",
      "7           上人         979\n",
      "8           受食         977\n",
      "9           實智         975\n",
      "10          十惡         967\n",
      "11          提舍         962\n",
      "12          拔濟         960\n",
      "13          佛乘         959\n",
      "14          象王         958\n",
      "15          入空         957\n",
      "16          攝心         955\n",
      "17         心解脫         953\n",
      "18          取蘊         952\n",
      "19          十門         950\n",
      "20          一識         950\n",
      "21          勤行         950\n",
      "22          留難         949\n",
      "23          見分         948\n",
      "24          料簡         948\n",
      "25        阿修羅王         946\n",
      "26          僧殘         945\n",
      "27         學無學         943\n",
      "28          一地         941\n",
      "29         苦法智         940\n",
      "30          信行         940\n",
      "31          赤色         939\n",
      "32          百劫         939\n",
      "33          妙香         938\n",
      "34          千佛         938\n",
      "35         未離欲         938\n",
      "36         無想定         937\n",
      "37          法教         935\n",
      "38          空法         935\n",
      "39          能化         931\n"
     ]
    }
   ],
   "source": [
    "import numpy as np\n",
    "import pandas as pd\n",
    "\n",
    "from char_util import ToSimplified\n",
    "from term_extraction import check_ngrams, load_headwords\n",
    "\n",
    "# Loads the headwords from the Ding Fubao Buddhist dictionary\n",
    "dingfubao = load_headwords('dingfubao.txt')\n",
    "# Check the bigrams from corpus analysis against the Ding Fubao headwords\n",
    "check_ngrams(dingfubao)\n",
    "\n",
    "# Report on new words\n",
    "colnames = ['Traditional', 'Occurences']\n",
    "types = {'traditional': unicode, 'Occurences': np.uint32}\n",
    "df = pd.read_table('newwords.txt')\n",
    "numnew = df.count()[0]\n",
    "print \"Number of new words: \", numnew\n",
    "print df.head(40)"
   ]
  },
  {
   "cell_type": "code",
   "execution_count": 100,
   "metadata": {
    "collapsed": false
   },
   "outputs": [
    {
     "name": "stdout",
     "output_type": "stream",
     "text": [
      "http://buddhistinformatics.ddbc.edu.tw/glossaries/search.php?op=search&text=曹山&submit=Search\n"
     ]
    }
   ],
   "source": [
    "# Load NTI Reader dictionary\n",
    "colnames = ['id', 'simplified', 'traditional', 'pinyin', \n",
    "            'english', 'grammar', 'concept_cn', 'concept_en', \n",
    "            'domain_cn', 'domain_en', 'subdomain_cn', 'subdomain_en',\n",
    "            'image', 'mp3', 'notes', 'headword']\n",
    "types = {'id': np.uint32, 'simplified': np.object, 'traditional': np.object, \n",
    "        'pinyin': np.object, 'english': np.object, 'grammar': np.object,\n",
    "        'concept_cn': np.object, 'concept_en': np.object,\n",
    "        'domain_cn': np.object, 'domain_en': np.object, 'subdomain_cn': np.object,\n",
    "         'subdomain_en': np.object, 'image': np.object, 'mp3': np.object,\n",
    "         'notes': np.object, 'headword': np.uint32}\n",
    "nti_df = pd.read_table('../data/dictionary/words.txt', names=colnames, dtype=types)\n",
    "trad = u\"曹山\"\n",
    "url = u\"http://buddhistinformatics.ddbc.edu.tw/glossaries/search.php?op=search&text=%s&submit=Search\" % trad\n",
    "print url"
   ]
  },
  {
   "cell_type": "code",
   "execution_count": 101,
   "metadata": {
    "collapsed": false
   },
   "outputs": [
    {
     "name": "stdout",
     "output_type": "stream",
     "text": [
      "64185\t曹山\t\\N\tCáoshān\tBenji\tproper noun\t地名\tPlace Name\t历史\tHistory\t中国佛教\tChinese Buddhism\t\\N\t\\N\t(Ding '曹山'; FGDB '曹山'; SH '曹山')\t64185\n"
     ]
    }
   ],
   "source": [
    "# Create a word entry\n",
    "luid = nti_df.count()[0] + 1\n",
    "simplified, traditional, pinyin = ToSimplified(trad)\n",
    "english = u\"Benji\"\n",
    "grammar = u\"proper noun\"\n",
    "# Concept\n",
    "empty = u\"\\\\N\\t\\\\N\"\n",
    "arhat = u\"罗汉\\tArhat\"\n",
    "author = u\"作家\\tAuthor\"\n",
    "bodhisattva = u\"菩萨\\tBodhisattva\"\n",
    "book = u\"书\\tBook\"\n",
    "canonical = u\"典籍\\tCanonical Text\"\n",
    "monastic = u\"师父\\tMonastic\"\n",
    "place = u\"地名\\tPlace Name\"\n",
    "service = u\"法会\\tDharma Service\"\n",
    "temple = u\"寺院\\tTemple\"\n",
    "concept = place\n",
    "\n",
    "# Domain\n",
    "buddhism = u\"佛教\\tBuddhism\"\n",
    "classical = u\"古文\\tClassical Chinese\"\n",
    "culture = u\"文化\\tCulture\"\n",
    "education = u\"教育\\tEducation\"\n",
    "emotion = u\"感情\\tEmotion\"\n",
    "food = u\"饮食\\tFood and Drink\"\n",
    "history = u\"历史\\tHistory\"\n",
    "idiom = u\"成语\\tIdiom\"\n",
    "poetry = u\"诗\\tPoetry\"\n",
    "politics = u\"政治\\tPolitics\"\n",
    "psychology = u\"心理学\\tPsychology\"\n",
    "social_interaction = u\"交际\\tSocial Interaction\"\n",
    "thought = u\"思想\\tThought\"\n",
    "domain = history\n",
    "\n",
    "china = u\"中国\\tChina\"\n",
    "chinese_buddhism = u\"中国佛教\\tChinese Buddhism\"\n",
    "chan = u\"禅宗\\tChan\"\n",
    "esoteric = u\"密教\\tEsoteric Buddhism\"\n",
    "fgs = u\"佛光山\\tFo Guang Shan\"\n",
    "korea = u\"韓國\\tKorea\"\n",
    "india = u\"印度\\tIndia\"\n",
    "indian = u\"印度佛教\\tIndian Buddhism\"\n",
    "mahayana = u\"大乘佛教\\tMahāyāna Buddhism\"\n",
    "subdomain = chinese_buddhism\n",
    "\n",
    "bcsd = u\"BCSD '%s'\" % trad\n",
    "notes = u\"(Ding '%s'; FGDB '%s'; SH '%s')\" % (trad, trad, trad)\n",
    "#notes = u\"See 本寂\"\n",
    "#notes = u\"(CC-CEDICT '%s'; Guoyu '%s')\" % (trad, trad)\n",
    "print u\"%d\\t%s\\t%s\\t%s\\t%s\\t%s\\t%s\\t%s\\t%s\\t\\\\N\\t\\\\N\\t%s\\t%d\" % (\n",
    "      luid, simplified, traditional, pinyin, english, grammar, \n",
    "      concept, domain, subdomain, notes, luid)"
   ]
  },
  {
   "cell_type": "raw",
   "metadata": {
    "collapsed": true
   },
   "source": []
  }
 ],
 "metadata": {
  "kernelspec": {
   "display_name": "Python 2",
   "language": "python",
   "name": "python2"
  },
  "language_info": {
   "codemirror_mode": {
    "name": "ipython",
    "version": 2
   },
   "file_extension": ".py",
   "mimetype": "text/x-python",
   "name": "python",
   "nbconvert_exporter": "python",
   "pygments_lexer": "ipython2",
   "version": "2.7.10"
  }
 },
 "nbformat": 4,
 "nbformat_minor": 0
}
