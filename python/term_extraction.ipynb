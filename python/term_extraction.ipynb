{
 "cells": [
  {
   "cell_type": "markdown",
   "metadata": {},
   "source": [
    "# Terminology Extraction "
   ]
  },
  {
   "cell_type": "markdown",
   "metadata": {},
   "source": [
    "This notebook does terminology extraction from bigrams found in the corpus analysis"
   ]
  },
  {
   "cell_type": "code",
   "execution_count": 224,
   "metadata": {
    "collapsed": false
   },
   "outputs": [
    {
     "name": "stdout",
     "output_type": "stream",
     "text": [
      "Loading:  # Ding Fubao Buddhist Dictionary 《丁福保佛學大辭典》, source http://buddhaspace.org/dict/dfb/data/\n",
      "\n",
      "Number of new words:  10006\n",
      "   Traditional  Occurences\n",
      "0           道智        1797\n",
      "1           深法        1764\n",
      "2           愚夫        1761\n",
      "3           妙行        1754\n",
      "4           觀行        1754\n",
      "5           利樂        1743\n",
      "6           四行        1743\n",
      "7           願力        1735\n",
      "8           經部        1734\n",
      "9          增上慢        1725\n",
      "10          滅後        1717\n",
      "11          大論        1712\n",
      "12          毘曇        1709\n",
      "13         大菩提        1707\n",
      "14          正性        1705\n",
      "15          三匝        1702\n",
      "16         勝義空        1701\n",
      "17          後生        1700\n",
      "18          執受        1698\n",
      "19          貪愛        1697\n",
      "20          魔事        1692\n",
      "21          妙音        1690\n",
      "22          後際        1666\n",
      "23          地前        1658\n",
      "24        第四靜慮        1651\n",
      "25          欲樂        1648\n",
      "26          二字        1643\n",
      "27          愛欲        1625\n",
      "28          空處        1624\n",
      "29          偈頌        1624\n",
      "30          知根        1617\n",
      "31          意根        1614\n",
      "32          悲心        1610\n",
      "33         大慈悲        1603\n",
      "34         佛出世        1599\n",
      "35          中天        1591\n",
      "36         眾生心        1591\n",
      "37         離生性        1590\n",
      "38          香華        1583\n",
      "39         一剎那        1574\n"
     ]
    }
   ],
   "source": [
    "import numpy as np\n",
    "import pandas as pd\n",
    "\n",
    "from char_util import ToSimplified\n",
    "from term_extraction import check_ngrams, load_headwords\n",
    "\n",
    "# Loads the headwords from the Ding Fubao Buddhist dictionary\n",
    "dingfubao = load_headwords('dingfubao.txt')\n",
    "# Check the bigrams from corpus analysis against the Ding Fubao headwords\n",
    "check_ngrams(dingfubao)\n",
    "\n",
    "# Report on new words\n",
    "colnames = ['Traditional', 'Occurences']\n",
    "types = {'traditional': unicode, 'Occurences': np.uint32}\n",
    "df = pd.read_table('newwords.txt')\n",
    "numnew = df.count()[0]\n",
    "print \"Number of new words: \", numnew\n",
    "print df.head(40)"
   ]
  },
  {
   "cell_type": "code",
   "execution_count": 331,
   "metadata": {
    "collapsed": false
   },
   "outputs": [
    {
     "name": "stdout",
     "output_type": "stream",
     "text": [
      "http://buddhistinformatics.ddbc.edu.tw/glossaries/search.php?op=search&text=來生&submit=Search\n"
     ]
    }
   ],
   "source": [
    "# Load NTI Reader dictionary\n",
    "colnames = ['id', 'simplified', 'traditional', 'pinyin', \n",
    "            'english', 'grammar', 'concept_cn', 'concept_en', \n",
    "            'domain_cn', 'domain_en', 'subdomain_cn', 'subdomain_en',\n",
    "            'image', 'mp3', 'notes', 'headword']\n",
    "types = {'id': np.uint32, 'simplified': np.object, 'traditional': np.object, \n",
    "        'pinyin': np.object, 'english': np.object, 'grammar': np.object,\n",
    "        'concept_cn': np.object, 'concept_en': np.object,\n",
    "        'domain_cn': np.object, 'domain_en': np.object, 'subdomain_cn': np.object,\n",
    "         'subdomain_en': np.object, 'image': np.object, 'mp3': np.object,\n",
    "         'notes': np.object, 'headword': np.uint32}\n",
    "nti_df = pd.read_table('../data/dictionary/words.txt', names=colnames, dtype=types)\n",
    "trad = u\"來生\"\n",
    "url = u\"http://buddhistinformatics.ddbc.edu.tw/glossaries/search.php?op=search&text=%s&submit=Search\" % trad\n",
    "print url"
   ]
  },
  {
   "cell_type": "code",
   "execution_count": 332,
   "metadata": {
    "collapsed": false
   },
   "outputs": [
    {
     "name": "stdout",
     "output_type": "stream",
     "text": [
      "62838\t来生\t來生\tláishēng\tlater rebirths / subsequent births\tset phrase\t\\N\t\\N\t佛教\tBuddhism\t\\N\t\\N\t\\N\t\\N\tSee 後生\t62838\n"
     ]
    }
   ],
   "source": [
    "# Create a word entry\n",
    "luid = nti_df.count()[0] + 1\n",
    "simplified, traditional, pinyin = ToSimplified(trad)\n",
    "english = u\"later rebirths / subsequent births\"\n",
    "grammar = u\"set phrase\"\n",
    "# Concept\n",
    "empty = u\"\\\\N\\t\\\\N\"\n",
    "author = u\"作家\\tAuthor\"\n",
    "book = u\"书\\tBook\"\n",
    "canonical = u\"典籍\\tCanonical Text\"\n",
    "monastic = u\"师父\\tMonastic\"\n",
    "service = u\"法会\\tDharma Service\"\n",
    "concept = empty\n",
    "# Domain\n",
    "buddhism = u\"佛教\\tBuddhism\"\n",
    "classical = u\"古文\\tClassical Chinese\"\n",
    "domain = buddhism\n",
    "chinese_buddhism = u\"中国佛教\\tChinese Buddhism\"\n",
    "chan = u\"禅宗\\tChan\"\n",
    "esoteric = u\"密教\\tEsoteric Buddhism\"\n",
    "indian = u\"印度佛教\\tIndian Buddhism\"\n",
    "mahayana = u\"大乘佛教\\tMahāyāna Buddhism\"\n",
    "subdomain = empty\n",
    "notes = u\"(Ding '%s'; FGDB '%s'; SH '%s')\" % (trad, trad, trad)\n",
    "notes = u\"See 後生\"\n",
    "#notes = u\"(CC-CEDICT '%s'; Guoyu '%s')\" % (trad, trad)\n",
    "print u\"%d\\t%s\\t%s\\t%s\\t%s\\t%s\\t%s\\t%s\\t%s\\t\\\\N\\t\\\\N\\t%s\\t%d\" % (\n",
    "      luid, simplified, traditional, pinyin, english, grammar, \n",
    "      concept, domain, subdomain, notes, luid)"
   ]
  },
  {
   "cell_type": "code",
   "execution_count": null,
   "metadata": {
    "collapsed": true
   },
   "outputs": [],
   "source": []
  }
 ],
 "metadata": {
  "kernelspec": {
   "display_name": "Python 2",
   "language": "python",
   "name": "python2"
  },
  "language_info": {
   "codemirror_mode": {
    "name": "ipython",
    "version": 2
   },
   "file_extension": ".py",
   "mimetype": "text/x-python",
   "name": "python",
   "nbconvert_exporter": "python",
   "pygments_lexer": "ipython2",
   "version": "2.7.10"
  }
 },
 "nbformat": 4,
 "nbformat_minor": 0
}
